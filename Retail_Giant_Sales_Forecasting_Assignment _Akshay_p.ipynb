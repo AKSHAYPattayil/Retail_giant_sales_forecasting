{
 "cells": [
  {
   "cell_type": "markdown",
   "id": "e93e553e",
   "metadata": {},
   "source": [
    "# Problem Statement\n",
    "Global Mart is an online supergiant store that has worldwide operations. This store takes orders and delivers across the globe and deals with all the major product categories — consumer, corporate and home office.\n",
    "\n",
    "\n",
    "As a sales manager for this store, you have to forecast the sales of the products for the next 6 months, so that you have a proper estimate and can plan your inventory and business processes accordingly.\n",
    "\n",
    "-  find out the most consistently profitable market-segment and forecast the sales and demand for that single market-segment "
   ]
  },
  {
   "cell_type": "markdown",
   "id": "1cc5792e",
   "metadata": {},
   "source": [
    "steps\n",
    "- 1 .Reading and inspecting data\n",
    "- 2. Data Preparation and EDA\n",
    "- 3. Finding the most profitable market segment\n",
    "- 4. Filtering the sales data of 'APAC_Consumer' into a dataframe 'data'\n",
    "- 5. Time series analysis\n",
    "- 6. Exponential smoothing methods\n",
    "    - 6.1 Simple exponential smoothing\n",
    "    - 6.2 Holt’s exponential smoothing\n",
    "    - 6.3 Holt-Winters’ exponential smoothing - Additive\n",
    "    - 6.4 Holt-Winters’ exponential smoothing - Multiplicative\n",
    "- 7. ARIMA set of techniques\n",
    "    - 7.1 AR model\n",
    "    - 7.2 MA model\n",
    "    - 7.3 ARMA model\n",
    "    - 7.4 ARIMA model\n",
    "    - 7.5 SARIMA model\n",
    "- 8. Conclusions\n",
    "\n"
   ]
  },
  {
   "cell_type": "code",
   "execution_count": 1,
   "id": "8c7af294",
   "metadata": {},
   "outputs": [],
   "source": [
    "#importing libraries\n",
    "import numpy as np,pandas as pd\n",
    "import matplotlib.pyplot as plt\n",
    "import seaborn as sns\n",
    "%matplotlib inline"
   ]
  },
  {
   "cell_type": "code",
   "execution_count": 2,
   "id": "e4aa964e",
   "metadata": {},
   "outputs": [],
   "source": [
    "#supressing warnings\n",
    "import warnings\n",
    "warnings.filterwarnings('ignore')"
   ]
  },
  {
   "cell_type": "markdown",
   "id": "0eef193d",
   "metadata": {},
   "source": [
    "# 1 .Reading and inspecting data"
   ]
  },
  {
   "cell_type": "code",
   "execution_count": 3,
   "id": "a79c828f",
   "metadata": {
    "scrolled": true
   },
   "outputs": [
    {
     "data": {
      "text/html": [
       "<div>\n",
       "<style scoped>\n",
       "    .dataframe tbody tr th:only-of-type {\n",
       "        vertical-align: middle;\n",
       "    }\n",
       "\n",
       "    .dataframe tbody tr th {\n",
       "        vertical-align: top;\n",
       "    }\n",
       "\n",
       "    .dataframe thead th {\n",
       "        text-align: right;\n",
       "    }\n",
       "</style>\n",
       "<table border=\"1\" class=\"dataframe\">\n",
       "  <thead>\n",
       "    <tr style=\"text-align: right;\">\n",
       "      <th></th>\n",
       "      <th>Order Date</th>\n",
       "      <th>Segment</th>\n",
       "      <th>Market</th>\n",
       "      <th>Sales</th>\n",
       "      <th>Profit</th>\n",
       "    </tr>\n",
       "  </thead>\n",
       "  <tbody>\n",
       "    <tr>\n",
       "      <th>0</th>\n",
       "      <td>31-07-2012</td>\n",
       "      <td>Consumer</td>\n",
       "      <td>US</td>\n",
       "      <td>2309.650</td>\n",
       "      <td>762.1845</td>\n",
       "    </tr>\n",
       "    <tr>\n",
       "      <th>1</th>\n",
       "      <td>05-02-2013</td>\n",
       "      <td>Corporate</td>\n",
       "      <td>APAC</td>\n",
       "      <td>3709.395</td>\n",
       "      <td>-288.7650</td>\n",
       "    </tr>\n",
       "    <tr>\n",
       "      <th>2</th>\n",
       "      <td>17-10-2013</td>\n",
       "      <td>Consumer</td>\n",
       "      <td>APAC</td>\n",
       "      <td>5175.171</td>\n",
       "      <td>919.9710</td>\n",
       "    </tr>\n",
       "    <tr>\n",
       "      <th>3</th>\n",
       "      <td>28-01-2013</td>\n",
       "      <td>Home Office</td>\n",
       "      <td>EU</td>\n",
       "      <td>2892.510</td>\n",
       "      <td>-96.5400</td>\n",
       "    </tr>\n",
       "    <tr>\n",
       "      <th>4</th>\n",
       "      <td>05-11-2013</td>\n",
       "      <td>Consumer</td>\n",
       "      <td>Africa</td>\n",
       "      <td>2832.960</td>\n",
       "      <td>311.5200</td>\n",
       "    </tr>\n",
       "  </tbody>\n",
       "</table>\n",
       "</div>"
      ],
      "text/plain": [
       "   Order Date      Segment  Market     Sales    Profit\n",
       "0  31-07-2012     Consumer      US  2309.650  762.1845\n",
       "1  05-02-2013    Corporate    APAC  3709.395 -288.7650\n",
       "2  17-10-2013     Consumer    APAC  5175.171  919.9710\n",
       "3  28-01-2013  Home Office      EU  2892.510  -96.5400\n",
       "4  05-11-2013     Consumer  Africa  2832.960  311.5200"
      ]
     },
     "execution_count": 3,
     "metadata": {},
     "output_type": "execute_result"
    }
   ],
   "source": [
    "# storing data to df\n",
    "df = pd.read_csv('Global+Superstore+Data.csv')\n",
    "df.head()"
   ]
  },
  {
   "cell_type": "code",
   "execution_count": 4,
   "id": "8ae0acb6",
   "metadata": {},
   "outputs": [
    {
     "data": {
      "text/plain": [
       "(51290, 5)"
      ]
     },
     "execution_count": 4,
     "metadata": {},
     "output_type": "execute_result"
    }
   ],
   "source": [
    "#shape of df\n",
    "df.shape"
   ]
  },
  {
   "cell_type": "markdown",
   "id": "3495f516",
   "metadata": {},
   "source": [
    "-  There are 51290 rows and 5 columns in the data set"
   ]
  },
  {
   "cell_type": "code",
   "execution_count": 5,
   "id": "a7e12736",
   "metadata": {
    "scrolled": false
   },
   "outputs": [
    {
     "name": "stdout",
     "output_type": "stream",
     "text": [
      "<class 'pandas.core.frame.DataFrame'>\n",
      "RangeIndex: 51290 entries, 0 to 51289\n",
      "Data columns (total 5 columns):\n",
      " #   Column      Non-Null Count  Dtype  \n",
      "---  ------      --------------  -----  \n",
      " 0   Order Date  51290 non-null  object \n",
      " 1   Segment     51290 non-null  object \n",
      " 2   Market      51290 non-null  object \n",
      " 3   Sales       51290 non-null  float64\n",
      " 4   Profit      51290 non-null  float64\n",
      "dtypes: float64(2), object(3)\n",
      "memory usage: 2.0+ MB\n"
     ]
    }
   ],
   "source": [
    "df.info()"
   ]
  },
  {
   "cell_type": "markdown",
   "id": "3fca43cd",
   "metadata": {},
   "source": [
    "- There are no null values in any of the columns"
   ]
  },
  {
   "cell_type": "code",
   "execution_count": 6,
   "id": "87930493",
   "metadata": {
    "scrolled": true
   },
   "outputs": [
    {
     "data": {
      "text/html": [
       "<div>\n",
       "<style scoped>\n",
       "    .dataframe tbody tr th:only-of-type {\n",
       "        vertical-align: middle;\n",
       "    }\n",
       "\n",
       "    .dataframe tbody tr th {\n",
       "        vertical-align: top;\n",
       "    }\n",
       "\n",
       "    .dataframe thead th {\n",
       "        text-align: right;\n",
       "    }\n",
       "</style>\n",
       "<table border=\"1\" class=\"dataframe\">\n",
       "  <thead>\n",
       "    <tr style=\"text-align: right;\">\n",
       "      <th></th>\n",
       "      <th>Sales</th>\n",
       "      <th>Profit</th>\n",
       "    </tr>\n",
       "  </thead>\n",
       "  <tbody>\n",
       "    <tr>\n",
       "      <th>count</th>\n",
       "      <td>51290.000000</td>\n",
       "      <td>51290.000000</td>\n",
       "    </tr>\n",
       "    <tr>\n",
       "      <th>mean</th>\n",
       "      <td>246.490581</td>\n",
       "      <td>28.610982</td>\n",
       "    </tr>\n",
       "    <tr>\n",
       "      <th>std</th>\n",
       "      <td>487.565361</td>\n",
       "      <td>174.340972</td>\n",
       "    </tr>\n",
       "    <tr>\n",
       "      <th>min</th>\n",
       "      <td>0.444000</td>\n",
       "      <td>-6599.978000</td>\n",
       "    </tr>\n",
       "    <tr>\n",
       "      <th>25%</th>\n",
       "      <td>30.758625</td>\n",
       "      <td>0.000000</td>\n",
       "    </tr>\n",
       "    <tr>\n",
       "      <th>50%</th>\n",
       "      <td>85.053000</td>\n",
       "      <td>9.240000</td>\n",
       "    </tr>\n",
       "    <tr>\n",
       "      <th>75%</th>\n",
       "      <td>251.053200</td>\n",
       "      <td>36.810000</td>\n",
       "    </tr>\n",
       "    <tr>\n",
       "      <th>max</th>\n",
       "      <td>22638.480000</td>\n",
       "      <td>8399.976000</td>\n",
       "    </tr>\n",
       "  </tbody>\n",
       "</table>\n",
       "</div>"
      ],
      "text/plain": [
       "              Sales        Profit\n",
       "count  51290.000000  51290.000000\n",
       "mean     246.490581     28.610982\n",
       "std      487.565361    174.340972\n",
       "min        0.444000  -6599.978000\n",
       "25%       30.758625      0.000000\n",
       "50%       85.053000      9.240000\n",
       "75%      251.053200     36.810000\n",
       "max    22638.480000   8399.976000"
      ]
     },
     "execution_count": 6,
     "metadata": {},
     "output_type": "execute_result"
    }
   ],
   "source": [
    "df.describe() #describing numerical columns"
   ]
  },
  {
   "cell_type": "markdown",
   "id": "06e2b453",
   "metadata": {},
   "source": [
    "# 2. Data Preparation and EDA"
   ]
  },
  {
   "cell_type": "code",
   "execution_count": 7,
   "id": "eb6dd85d",
   "metadata": {},
   "outputs": [],
   "source": [
    "# combining the market and segement through string concatenation and storing them in a new column 'Market_Segment'\n",
    "df['Market_Segment'] = df.Market+'_'+df.Segment"
   ]
  },
  {
   "cell_type": "code",
   "execution_count": 8,
   "id": "e0d0b7b5",
   "metadata": {},
   "outputs": [],
   "source": [
    "# Dropping 'Segment' and 'Market' columns from the dataframe\n",
    "df.drop(['Segment','Market'],axis = 1,inplace = True)"
   ]
  },
  {
   "cell_type": "code",
   "execution_count": 9,
   "id": "e5eb7961",
   "metadata": {
    "scrolled": true
   },
   "outputs": [
    {
     "data": {
      "text/plain": [
       "Order Date         1430\n",
       "Sales             22995\n",
       "Profit            24575\n",
       "Market_Segment       21\n",
       "dtype: int64"
      ]
     },
     "execution_count": 9,
     "metadata": {},
     "output_type": "execute_result"
    }
   ],
   "source": [
    "# checking unique values in each columns\n",
    "df.nunique()"
   ]
  },
  {
   "cell_type": "markdown",
   "id": "9839a8ae",
   "metadata": {},
   "source": [
    "- There are 21 unique Market segments\n",
    "- Since the count of unique order dates are less than the total number of rows,\n",
    "   we could say there were multiple orders on same days."
   ]
  },
  {
   "cell_type": "code",
   "execution_count": 10,
   "id": "9df9b1df",
   "metadata": {},
   "outputs": [
    {
     "data": {
      "text/plain": [
       "array(['US_Consumer', 'APAC_Corporate', 'APAC_Consumer', 'EU_Home Office',\n",
       "       'Africa_Consumer', 'US_Corporate', 'EMEA_Consumer',\n",
       "       'LATAM_Home Office', 'EU_Corporate', 'EMEA_Corporate',\n",
       "       'LATAM_Consumer', 'EU_Consumer', 'US_Home Office',\n",
       "       'LATAM_Corporate', 'Africa_Corporate', 'APAC_Home Office',\n",
       "       'EMEA_Home Office', 'Africa_Home Office', 'Canada_Corporate',\n",
       "       'Canada_Home Office', 'Canada_Consumer'], dtype=object)"
      ]
     },
     "execution_count": 10,
     "metadata": {},
     "output_type": "execute_result"
    }
   ],
   "source": [
    "#  21 unique Market segments are\n",
    "df.Market_Segment.unique()"
   ]
  },
  {
   "cell_type": "code",
   "execution_count": 11,
   "id": "9870f973",
   "metadata": {
    "scrolled": true
   },
   "outputs": [
    {
     "data": {
      "image/png": "[encoded data removed]",
      "text/plain": [
       "<Figure size 1440x432 with 1 Axes>"
      ]
     },
     "metadata": {
      "needs_background": "light"
     },
     "output_type": "display_data"
    }
   ],
   "source": [
    "# count plot of 21 unique Market segments\n",
    "plt.figure(figsize = [20,6])\n",
    "sns.countplot(df.Market_Segment)\n",
    "plt.xticks(rotation=90)\n",
    "plt.title('21 Unique market segments and their number of orders')\n",
    "plt.show()"
   ]
  },
  {
   "cell_type": "markdown",
   "id": "97554398",
   "metadata": {},
   "source": [
    " - APAC_Consumer market segment has the most number of orders"
   ]
  },
  {
   "cell_type": "code",
   "execution_count": 12,
   "id": "a18a4361",
   "metadata": {},
   "outputs": [
    {
     "data": {
      "image/png": "[encoded data removed]",
      "text/plain": [
       "<Figure size 432x288 with 2 Axes>"
      ]
     },
     "metadata": {
      "needs_background": "light"
     },
     "output_type": "display_data"
    }
   ],
   "source": [
    "# plotting boxplots of sales profits and sales\n",
    "plt.subplot(2,1,1)\n",
    "sns.boxplot(df.Profit,whis=1.5)\n",
    "\n",
    "plt.subplot(2,1,2)\n",
    "sns.boxplot(df.Sales,whis=1.5)\n",
    "\n",
    "plt.show()"
   ]
  },
  {
   "cell_type": "markdown",
   "id": "03abe971",
   "metadata": {},
   "source": [
    "- There are outliers in both sales and profits\n",
    "- But these may not be false data, beacuse in market it is possible to have extreme values as profit and sales.\n",
    "- Infact these extreme data points can't be removed as they should be considered while identifying the market segment with  least coefficient of variations( most profitable segment)."
   ]
  },
  {
   "cell_type": "code",
   "execution_count": 13,
   "id": "ca45ee56",
   "metadata": {},
   "outputs": [],
   "source": [
    "# setting 'Market_Segment' as index\n",
    "df.set_index('Market_Segment',inplace = True)"
   ]
  },
  {
   "cell_type": "code",
   "execution_count": 14,
   "id": "20245026",
   "metadata": {
    "scrolled": true
   },
   "outputs": [
    {
     "data": {
      "text/html": [
       "<div>\n",
       "<style scoped>\n",
       "    .dataframe tbody tr th:only-of-type {\n",
       "        vertical-align: middle;\n",
       "    }\n",
       "\n",
       "    .dataframe tbody tr th {\n",
       "        vertical-align: top;\n",
       "    }\n",
       "\n",
       "    .dataframe thead th {\n",
       "        text-align: right;\n",
       "    }\n",
       "</style>\n",
       "<table border=\"1\" class=\"dataframe\">\n",
       "  <thead>\n",
       "    <tr style=\"text-align: right;\">\n",
       "      <th></th>\n",
       "      <th>Order Date</th>\n",
       "      <th>Sales</th>\n",
       "      <th>Profit</th>\n",
       "    </tr>\n",
       "    <tr>\n",
       "      <th>Market_Segment</th>\n",
       "      <th></th>\n",
       "      <th></th>\n",
       "      <th></th>\n",
       "    </tr>\n",
       "  </thead>\n",
       "  <tbody>\n",
       "    <tr>\n",
       "      <th>US_Consumer</th>\n",
       "      <td>2012-07</td>\n",
       "      <td>2309.650</td>\n",
       "      <td>762.1845</td>\n",
       "    </tr>\n",
       "    <tr>\n",
       "      <th>APAC_Corporate</th>\n",
       "      <td>2013-05</td>\n",
       "      <td>3709.395</td>\n",
       "      <td>-288.7650</td>\n",
       "    </tr>\n",
       "    <tr>\n",
       "      <th>APAC_Consumer</th>\n",
       "      <td>2013-10</td>\n",
       "      <td>5175.171</td>\n",
       "      <td>919.9710</td>\n",
       "    </tr>\n",
       "    <tr>\n",
       "      <th>EU_Home Office</th>\n",
       "      <td>2013-01</td>\n",
       "      <td>2892.510</td>\n",
       "      <td>-96.5400</td>\n",
       "    </tr>\n",
       "    <tr>\n",
       "      <th>Africa_Consumer</th>\n",
       "      <td>2013-05</td>\n",
       "      <td>2832.960</td>\n",
       "      <td>311.5200</td>\n",
       "    </tr>\n",
       "  </tbody>\n",
       "</table>\n",
       "</div>"
      ],
      "text/plain": [
       "                Order Date     Sales    Profit\n",
       "Market_Segment                                \n",
       "US_Consumer        2012-07  2309.650  762.1845\n",
       "APAC_Corporate     2013-05  3709.395 -288.7650\n",
       "APAC_Consumer      2013-10  5175.171  919.9710\n",
       "EU_Home Office     2013-01  2892.510  -96.5400\n",
       "Africa_Consumer    2013-05  2832.960  311.5200"
      ]
     },
     "execution_count": 14,
     "metadata": {},
     "output_type": "execute_result"
    }
   ],
   "source": [
    "# Converting the order-date into a date-time format (year-month format)\n",
    "df['Order Date'] =pd.to_datetime(df['Order Date']).dt.to_period('m')\n",
    "df.head()"
   ]
  },
  {
   "cell_type": "code",
   "execution_count": 15,
   "id": "d0a8361e",
   "metadata": {},
   "outputs": [
    {
     "name": "stdout",
     "output_type": "stream",
     "text": [
      "<class 'pandas.core.frame.DataFrame'>\n",
      "Index: 51290 entries, US_Consumer to LATAM_Consumer\n",
      "Data columns (total 3 columns):\n",
      " #   Column      Non-Null Count  Dtype    \n",
      "---  ------      --------------  -----    \n",
      " 0   Order Date  51290 non-null  period[M]\n",
      " 1   Sales       51290 non-null  float64  \n",
      " 2   Profit      51290 non-null  float64  \n",
      "dtypes: float64(2), period[M](1)\n",
      "memory usage: 1.6+ MB\n"
     ]
    }
   ],
   "source": [
    "#checking the data types\n",
    "df.info()"
   ]
  },
  {
   "cell_type": "code",
   "execution_count": 16,
   "id": "93fc282e",
   "metadata": {
    "scrolled": true
   },
   "outputs": [
    {
     "data": {
      "text/plain": [
       "count       51290\n",
       "unique         48\n",
       "top       2014-11\n",
       "freq         1993\n",
       "Name: Order Date, dtype: object"
      ]
     },
     "execution_count": 16,
     "metadata": {},
     "output_type": "execute_result"
    }
   ],
   "source": [
    "df['Order Date'].describe()   "
   ]
  },
  {
   "cell_type": "markdown",
   "id": "6bc6d625",
   "metadata": {},
   "source": [
    "- There are 48 unique month-year combinations"
   ]
  },
  {
   "cell_type": "code",
   "execution_count": 17,
   "id": "26c96498",
   "metadata": {},
   "outputs": [],
   "source": [
    "# monthly aggregated profit data across market_segments (as df_profit)\n",
    "df_profit = df.pivot_table(index = 'Order Date',columns = 'Market_Segment',values='Profit',aggfunc = 'sum')"
   ]
  },
  {
   "cell_type": "code",
   "execution_count": 18,
   "id": "642eb908",
   "metadata": {},
   "outputs": [
    {
     "data": {
      "text/html": [
       "<div>\n",
       "<style scoped>\n",
       "    .dataframe tbody tr th:only-of-type {\n",
       "        vertical-align: middle;\n",
       "    }\n",
       "\n",
       "    .dataframe tbody tr th {\n",
       "        vertical-align: top;\n",
       "    }\n",
       "\n",
       "    .dataframe thead th {\n",
       "        text-align: right;\n",
       "    }\n",
       "</style>\n",
       "<table border=\"1\" class=\"dataframe\">\n",
       "  <thead>\n",
       "    <tr style=\"text-align: right;\">\n",
       "      <th>Market_Segment</th>\n",
       "      <th>APAC_Consumer</th>\n",
       "      <th>APAC_Corporate</th>\n",
       "      <th>APAC_Home Office</th>\n",
       "      <th>Africa_Consumer</th>\n",
       "      <th>Africa_Corporate</th>\n",
       "      <th>Africa_Home Office</th>\n",
       "      <th>Canada_Consumer</th>\n",
       "      <th>Canada_Corporate</th>\n",
       "      <th>Canada_Home Office</th>\n",
       "      <th>EMEA_Consumer</th>\n",
       "      <th>...</th>\n",
       "      <th>EMEA_Home Office</th>\n",
       "      <th>EU_Consumer</th>\n",
       "      <th>EU_Corporate</th>\n",
       "      <th>EU_Home Office</th>\n",
       "      <th>LATAM_Consumer</th>\n",
       "      <th>LATAM_Corporate</th>\n",
       "      <th>LATAM_Home Office</th>\n",
       "      <th>US_Consumer</th>\n",
       "      <th>US_Corporate</th>\n",
       "      <th>US_Home Office</th>\n",
       "    </tr>\n",
       "    <tr>\n",
       "      <th>Order Date</th>\n",
       "      <th></th>\n",
       "      <th></th>\n",
       "      <th></th>\n",
       "      <th></th>\n",
       "      <th></th>\n",
       "      <th></th>\n",
       "      <th></th>\n",
       "      <th></th>\n",
       "      <th></th>\n",
       "      <th></th>\n",
       "      <th></th>\n",
       "      <th></th>\n",
       "      <th></th>\n",
       "      <th></th>\n",
       "      <th></th>\n",
       "      <th></th>\n",
       "      <th></th>\n",
       "      <th></th>\n",
       "      <th></th>\n",
       "      <th></th>\n",
       "      <th></th>\n",
       "    </tr>\n",
       "  </thead>\n",
       "  <tbody>\n",
       "    <tr>\n",
       "      <th>2011-01</th>\n",
       "      <td>2254.4898</td>\n",
       "      <td>-173.7264</td>\n",
       "      <td>230.2656</td>\n",
       "      <td>265.539</td>\n",
       "      <td>520.026</td>\n",
       "      <td>391.515</td>\n",
       "      <td>447.33</td>\n",
       "      <td>12.57</td>\n",
       "      <td>NaN</td>\n",
       "      <td>-2952.594</td>\n",
       "      <td>...</td>\n",
       "      <td>392.526</td>\n",
       "      <td>2259.8670</td>\n",
       "      <td>841.3875</td>\n",
       "      <td>2534.568</td>\n",
       "      <td>540.44312</td>\n",
       "      <td>1021.05924</td>\n",
       "      <td>-26.59744</td>\n",
       "      <td>2465.8368</td>\n",
       "      <td>643.3689</td>\n",
       "      <td>1233.9329</td>\n",
       "    </tr>\n",
       "    <tr>\n",
       "      <th>2011-02</th>\n",
       "      <td>4627.8531</td>\n",
       "      <td>3600.7776</td>\n",
       "      <td>617.5407</td>\n",
       "      <td>-201.888</td>\n",
       "      <td>-31.689</td>\n",
       "      <td>825.606</td>\n",
       "      <td>26.43</td>\n",
       "      <td>9.24</td>\n",
       "      <td>87.99</td>\n",
       "      <td>464.160</td>\n",
       "      <td>...</td>\n",
       "      <td>368.070</td>\n",
       "      <td>-783.9945</td>\n",
       "      <td>2234.4060</td>\n",
       "      <td>162.255</td>\n",
       "      <td>1227.86616</td>\n",
       "      <td>814.03020</td>\n",
       "      <td>-356.80440</td>\n",
       "      <td>1853.5541</td>\n",
       "      <td>421.9256</td>\n",
       "      <td>553.9467</td>\n",
       "    </tr>\n",
       "    <tr>\n",
       "      <th>2011-03</th>\n",
       "      <td>2337.8319</td>\n",
       "      <td>3634.9365</td>\n",
       "      <td>205.1052</td>\n",
       "      <td>919.074</td>\n",
       "      <td>244.437</td>\n",
       "      <td>83.430</td>\n",
       "      <td>82.47</td>\n",
       "      <td>NaN</td>\n",
       "      <td>84.03</td>\n",
       "      <td>706.380</td>\n",
       "      <td>...</td>\n",
       "      <td>-15.570</td>\n",
       "      <td>1273.7100</td>\n",
       "      <td>2206.5960</td>\n",
       "      <td>269.745</td>\n",
       "      <td>2427.39612</td>\n",
       "      <td>178.66400</td>\n",
       "      <td>769.88400</td>\n",
       "      <td>204.2007</td>\n",
       "      <td>127.4696</td>\n",
       "      <td>-268.9314</td>\n",
       "    </tr>\n",
       "    <tr>\n",
       "      <th>2011-04</th>\n",
       "      <td>633.6423</td>\n",
       "      <td>90.7521</td>\n",
       "      <td>603.8478</td>\n",
       "      <td>381.315</td>\n",
       "      <td>941.751</td>\n",
       "      <td>417.618</td>\n",
       "      <td>55.08</td>\n",
       "      <td>6.51</td>\n",
       "      <td>NaN</td>\n",
       "      <td>121.353</td>\n",
       "      <td>...</td>\n",
       "      <td>-456.510</td>\n",
       "      <td>2980.0065</td>\n",
       "      <td>981.1470</td>\n",
       "      <td>130.371</td>\n",
       "      <td>1368.82948</td>\n",
       "      <td>872.64068</td>\n",
       "      <td>-554.22952</td>\n",
       "      <td>1434.8636</td>\n",
       "      <td>494.7315</td>\n",
       "      <td>2723.4358</td>\n",
       "    </tr>\n",
       "    <tr>\n",
       "      <th>2011-05</th>\n",
       "      <td>3838.9500</td>\n",
       "      <td>1028.4489</td>\n",
       "      <td>102.0315</td>\n",
       "      <td>-39.981</td>\n",
       "      <td>490.650</td>\n",
       "      <td>39.180</td>\n",
       "      <td>0.87</td>\n",
       "      <td>NaN</td>\n",
       "      <td>NaN</td>\n",
       "      <td>172.554</td>\n",
       "      <td>...</td>\n",
       "      <td>-33.591</td>\n",
       "      <td>673.0080</td>\n",
       "      <td>1719.0600</td>\n",
       "      <td>443.310</td>\n",
       "      <td>1749.39200</td>\n",
       "      <td>134.87252</td>\n",
       "      <td>-397.95600</td>\n",
       "      <td>833.9433</td>\n",
       "      <td>2912.7976</td>\n",
       "      <td>145.7781</td>\n",
       "    </tr>\n",
       "  </tbody>\n",
       "</table>\n",
       "<p>5 rows × 21 columns</p>\n",
       "</div>"
      ],
      "text/plain": [
       "Market_Segment  APAC_Consumer  APAC_Corporate  APAC_Home Office  \\\n",
       "Order Date                                                        \n",
       "2011-01             2254.4898       -173.7264          230.2656   \n",
       "2011-02             4627.8531       3600.7776          617.5407   \n",
       "2011-03             2337.8319       3634.9365          205.1052   \n",
       "2011-04              633.6423         90.7521          603.8478   \n",
       "2011-05             3838.9500       1028.4489          102.0315   \n",
       "\n",
       "Market_Segment  Africa_Consumer  Africa_Corporate  Africa_Home Office  \\\n",
       "Order Date                                                              \n",
       "2011-01                 265.539           520.026             391.515   \n",
       "2011-02                -201.888           -31.689             825.606   \n",
       "2011-03                 919.074           244.437              83.430   \n",
       "2011-04                 381.315           941.751             417.618   \n",
       "2011-05                 -39.981           490.650              39.180   \n",
       "\n",
       "Market_Segment  Canada_Consumer  Canada_Corporate  Canada_Home Office  \\\n",
       "Order Date                                                              \n",
       "2011-01                  447.33             12.57                 NaN   \n",
       "2011-02                   26.43              9.24               87.99   \n",
       "2011-03                   82.47               NaN               84.03   \n",
       "2011-04                   55.08              6.51                 NaN   \n",
       "2011-05                    0.87               NaN                 NaN   \n",
       "\n",
       "Market_Segment  EMEA_Consumer  ...  EMEA_Home Office  EU_Consumer  \\\n",
       "Order Date                     ...                                  \n",
       "2011-01             -2952.594  ...           392.526    2259.8670   \n",
       "2011-02               464.160  ...           368.070    -783.9945   \n",
       "2011-03               706.380  ...           -15.570    1273.7100   \n",
       "2011-04               121.353  ...          -456.510    2980.0065   \n",
       "2011-05               172.554  ...           -33.591     673.0080   \n",
       "\n",
       "Market_Segment  EU_Corporate  EU_Home Office  LATAM_Consumer  LATAM_Corporate  \\\n",
       "Order Date                                                                      \n",
       "2011-01             841.3875        2534.568       540.44312       1021.05924   \n",
       "2011-02            2234.4060         162.255      1227.86616        814.03020   \n",
       "2011-03            2206.5960         269.745      2427.39612        178.66400   \n",
       "2011-04             981.1470         130.371      1368.82948        872.64068   \n",
       "2011-05            1719.0600         443.310      1749.39200        134.87252   \n",
       "\n",
       "Market_Segment  LATAM_Home Office  US_Consumer  US_Corporate  US_Home Office  \n",
       "Order Date                                                                    \n",
       "2011-01                 -26.59744    2465.8368      643.3689       1233.9329  \n",
       "2011-02                -356.80440    1853.5541      421.9256        553.9467  \n",
       "2011-03                 769.88400     204.2007      127.4696       -268.9314  \n",
       "2011-04                -554.22952    1434.8636      494.7315       2723.4358  \n",
       "2011-05                -397.95600     833.9433     2912.7976        145.7781  \n",
       "\n",
       "[5 rows x 21 columns]"
      ]
     },
     "execution_count": 18,
     "metadata": {},
     "output_type": "execute_result"
    }
   ],
   "source": [
    "df_profit.head()"
   ]
  },
  {
   "cell_type": "markdown",
   "id": "1cd4e5c3",
   "metadata": {},
   "source": [
    "#### train-test split "
   ]
  },
  {
   "cell_type": "code",
   "execution_count": 19,
   "id": "f9a4302b",
   "metadata": {},
   "outputs": [
    {
     "data": {
      "text/plain": [
       "((42, 21), (6, 21))"
      ]
     },
     "execution_count": 19,
     "metadata": {},
     "output_type": "execute_result"
    }
   ],
   "source": [
    "# splitting the aggregated transaction data into train and test sets (42 months in train and 6 in test)\n",
    "train = df_profit[:42]\n",
    "test = df_profit[42:]\n",
    "train.shape,test.shape"
   ]
  },
  {
   "cell_type": "code",
   "execution_count": 20,
   "id": "b94332b9",
   "metadata": {
    "scrolled": false
   },
   "outputs": [
    {
     "data": {
      "text/html": [
       "<div>\n",
       "<style scoped>\n",
       "    .dataframe tbody tr th:only-of-type {\n",
       "        vertical-align: middle;\n",
       "    }\n",
       "\n",
       "    .dataframe tbody tr th {\n",
       "        vertical-align: top;\n",
       "    }\n",
       "\n",
       "    .dataframe thead th {\n",
       "        text-align: right;\n",
       "    }\n",
       "</style>\n",
       "<table border=\"1\" class=\"dataframe\">\n",
       "  <thead>\n",
       "    <tr style=\"text-align: right;\">\n",
       "      <th>Market_Segment</th>\n",
       "      <th>APAC_Consumer</th>\n",
       "      <th>APAC_Corporate</th>\n",
       "      <th>APAC_Home Office</th>\n",
       "      <th>Africa_Consumer</th>\n",
       "      <th>Africa_Corporate</th>\n",
       "      <th>Africa_Home Office</th>\n",
       "      <th>Canada_Consumer</th>\n",
       "      <th>Canada_Corporate</th>\n",
       "      <th>Canada_Home Office</th>\n",
       "      <th>EMEA_Consumer</th>\n",
       "      <th>...</th>\n",
       "      <th>EMEA_Home Office</th>\n",
       "      <th>EU_Consumer</th>\n",
       "      <th>EU_Corporate</th>\n",
       "      <th>EU_Home Office</th>\n",
       "      <th>LATAM_Consumer</th>\n",
       "      <th>LATAM_Corporate</th>\n",
       "      <th>LATAM_Home Office</th>\n",
       "      <th>US_Consumer</th>\n",
       "      <th>US_Corporate</th>\n",
       "      <th>US_Home Office</th>\n",
       "    </tr>\n",
       "    <tr>\n",
       "      <th>Order Date</th>\n",
       "      <th></th>\n",
       "      <th></th>\n",
       "      <th></th>\n",
       "      <th></th>\n",
       "      <th></th>\n",
       "      <th></th>\n",
       "      <th></th>\n",
       "      <th></th>\n",
       "      <th></th>\n",
       "      <th></th>\n",
       "      <th></th>\n",
       "      <th></th>\n",
       "      <th></th>\n",
       "      <th></th>\n",
       "      <th></th>\n",
       "      <th></th>\n",
       "      <th></th>\n",
       "      <th></th>\n",
       "      <th></th>\n",
       "      <th></th>\n",
       "      <th></th>\n",
       "    </tr>\n",
       "  </thead>\n",
       "  <tbody>\n",
       "    <tr>\n",
       "      <th>2011-01</th>\n",
       "      <td>2254.4898</td>\n",
       "      <td>-173.7264</td>\n",
       "      <td>230.2656</td>\n",
       "      <td>265.539</td>\n",
       "      <td>520.026</td>\n",
       "      <td>391.515</td>\n",
       "      <td>447.33</td>\n",
       "      <td>12.57</td>\n",
       "      <td>NaN</td>\n",
       "      <td>-2952.594</td>\n",
       "      <td>...</td>\n",
       "      <td>392.526</td>\n",
       "      <td>2259.8670</td>\n",
       "      <td>841.3875</td>\n",
       "      <td>2534.568</td>\n",
       "      <td>540.44312</td>\n",
       "      <td>1021.05924</td>\n",
       "      <td>-26.59744</td>\n",
       "      <td>2465.8368</td>\n",
       "      <td>643.3689</td>\n",
       "      <td>1233.9329</td>\n",
       "    </tr>\n",
       "    <tr>\n",
       "      <th>2011-02</th>\n",
       "      <td>4627.8531</td>\n",
       "      <td>3600.7776</td>\n",
       "      <td>617.5407</td>\n",
       "      <td>-201.888</td>\n",
       "      <td>-31.689</td>\n",
       "      <td>825.606</td>\n",
       "      <td>26.43</td>\n",
       "      <td>9.24</td>\n",
       "      <td>87.99</td>\n",
       "      <td>464.160</td>\n",
       "      <td>...</td>\n",
       "      <td>368.070</td>\n",
       "      <td>-783.9945</td>\n",
       "      <td>2234.4060</td>\n",
       "      <td>162.255</td>\n",
       "      <td>1227.86616</td>\n",
       "      <td>814.03020</td>\n",
       "      <td>-356.80440</td>\n",
       "      <td>1853.5541</td>\n",
       "      <td>421.9256</td>\n",
       "      <td>553.9467</td>\n",
       "    </tr>\n",
       "    <tr>\n",
       "      <th>2011-03</th>\n",
       "      <td>2337.8319</td>\n",
       "      <td>3634.9365</td>\n",
       "      <td>205.1052</td>\n",
       "      <td>919.074</td>\n",
       "      <td>244.437</td>\n",
       "      <td>83.430</td>\n",
       "      <td>82.47</td>\n",
       "      <td>NaN</td>\n",
       "      <td>84.03</td>\n",
       "      <td>706.380</td>\n",
       "      <td>...</td>\n",
       "      <td>-15.570</td>\n",
       "      <td>1273.7100</td>\n",
       "      <td>2206.5960</td>\n",
       "      <td>269.745</td>\n",
       "      <td>2427.39612</td>\n",
       "      <td>178.66400</td>\n",
       "      <td>769.88400</td>\n",
       "      <td>204.2007</td>\n",
       "      <td>127.4696</td>\n",
       "      <td>-268.9314</td>\n",
       "    </tr>\n",
       "    <tr>\n",
       "      <th>2011-04</th>\n",
       "      <td>633.6423</td>\n",
       "      <td>90.7521</td>\n",
       "      <td>603.8478</td>\n",
       "      <td>381.315</td>\n",
       "      <td>941.751</td>\n",
       "      <td>417.618</td>\n",
       "      <td>55.08</td>\n",
       "      <td>6.51</td>\n",
       "      <td>NaN</td>\n",
       "      <td>121.353</td>\n",
       "      <td>...</td>\n",
       "      <td>-456.510</td>\n",
       "      <td>2980.0065</td>\n",
       "      <td>981.1470</td>\n",
       "      <td>130.371</td>\n",
       "      <td>1368.82948</td>\n",
       "      <td>872.64068</td>\n",
       "      <td>-554.22952</td>\n",
       "      <td>1434.8636</td>\n",
       "      <td>494.7315</td>\n",
       "      <td>2723.4358</td>\n",
       "    </tr>\n",
       "    <tr>\n",
       "      <th>2011-05</th>\n",
       "      <td>3838.9500</td>\n",
       "      <td>1028.4489</td>\n",
       "      <td>102.0315</td>\n",
       "      <td>-39.981</td>\n",
       "      <td>490.650</td>\n",
       "      <td>39.180</td>\n",
       "      <td>0.87</td>\n",
       "      <td>NaN</td>\n",
       "      <td>NaN</td>\n",
       "      <td>172.554</td>\n",
       "      <td>...</td>\n",
       "      <td>-33.591</td>\n",
       "      <td>673.0080</td>\n",
       "      <td>1719.0600</td>\n",
       "      <td>443.310</td>\n",
       "      <td>1749.39200</td>\n",
       "      <td>134.87252</td>\n",
       "      <td>-397.95600</td>\n",
       "      <td>833.9433</td>\n",
       "      <td>2912.7976</td>\n",
       "      <td>145.7781</td>\n",
       "    </tr>\n",
       "  </tbody>\n",
       "</table>\n",
       "<p>5 rows × 21 columns</p>\n",
       "</div>"
      ],
      "text/plain": [
       "Market_Segment  APAC_Consumer  APAC_Corporate  APAC_Home Office  \\\n",
       "Order Date                                                        \n",
       "2011-01             2254.4898       -173.7264          230.2656   \n",
       "2011-02             4627.8531       3600.7776          617.5407   \n",
       "2011-03             2337.8319       3634.9365          205.1052   \n",
       "2011-04              633.6423         90.7521          603.8478   \n",
       "2011-05             3838.9500       1028.4489          102.0315   \n",
       "\n",
       "Market_Segment  Africa_Consumer  Africa_Corporate  Africa_Home Office  \\\n",
       "Order Date                                                              \n",
       "2011-01                 265.539           520.026             391.515   \n",
       "2011-02                -201.888           -31.689             825.606   \n",
       "2011-03                 919.074           244.437              83.430   \n",
       "2011-04                 381.315           941.751             417.618   \n",
       "2011-05                 -39.981           490.650              39.180   \n",
       "\n",
       "Market_Segment  Canada_Consumer  Canada_Corporate  Canada_Home Office  \\\n",
       "Order Date                                                              \n",
       "2011-01                  447.33             12.57                 NaN   \n",
       "2011-02                   26.43              9.24               87.99   \n",
       "2011-03                   82.47               NaN               84.03   \n",
       "2011-04                   55.08              6.51                 NaN   \n",
       "2011-05                    0.87               NaN                 NaN   \n",
       "\n",
       "Market_Segment  EMEA_Consumer  ...  EMEA_Home Office  EU_Consumer  \\\n",
       "Order Date                     ...                                  \n",
       "2011-01             -2952.594  ...           392.526    2259.8670   \n",
       "2011-02               464.160  ...           368.070    -783.9945   \n",
       "2011-03               706.380  ...           -15.570    1273.7100   \n",
       "2011-04               121.353  ...          -456.510    2980.0065   \n",
       "2011-05               172.554  ...           -33.591     673.0080   \n",
       "\n",
       "Market_Segment  EU_Corporate  EU_Home Office  LATAM_Consumer  LATAM_Corporate  \\\n",
       "Order Date                                                                      \n",
       "2011-01             841.3875        2534.568       540.44312       1021.05924   \n",
       "2011-02            2234.4060         162.255      1227.86616        814.03020   \n",
       "2011-03            2206.5960         269.745      2427.39612        178.66400   \n",
       "2011-04             981.1470         130.371      1368.82948        872.64068   \n",
       "2011-05            1719.0600         443.310      1749.39200        134.87252   \n",
       "\n",
       "Market_Segment  LATAM_Home Office  US_Consumer  US_Corporate  US_Home Office  \n",
       "Order Date                                                                    \n",
       "2011-01                 -26.59744    2465.8368      643.3689       1233.9329  \n",
       "2011-02                -356.80440    1853.5541      421.9256        553.9467  \n",
       "2011-03                 769.88400     204.2007      127.4696       -268.9314  \n",
       "2011-04                -554.22952    1434.8636      494.7315       2723.4358  \n",
       "2011-05                -397.95600     833.9433     2912.7976        145.7781  \n",
       "\n",
       "[5 rows x 21 columns]"
      ]
     },
     "execution_count": 20,
     "metadata": {},
     "output_type": "execute_result"
    }
   ],
   "source": [
    "train.head()"
   ]
  },
  {
   "cell_type": "markdown",
   "id": "336e0d00",
   "metadata": {},
   "source": [
    "# 3. Finding the most profitable market segment "
   ]
  },
  {
   "cell_type": "code",
   "execution_count": 21,
   "id": "27c7d1bb",
   "metadata": {},
   "outputs": [],
   "source": [
    "#storing the mean and standard deviation of monthly aggregated profit in each market_segment in 'mean' and 'std' respectively\n",
    "mean = np.mean(train)\n",
    "std = np.std(train)"
   ]
  },
  {
   "cell_type": "markdown",
   "id": "778fd22b",
   "metadata": {},
   "source": [
    "- We can compare the aggregated profits from different market segments using coefficient of variation which will normalise the standard deviation with the mean and gives a comparative figure on the basis of which we can identify the most profitable market segment."
   ]
  },
  {
   "cell_type": "code",
   "execution_count": 22,
   "id": "03d82b5b",
   "metadata": {},
   "outputs": [
    {
     "data": {
      "text/html": [
       "<div>\n",
       "<style scoped>\n",
       "    .dataframe tbody tr th:only-of-type {\n",
       "        vertical-align: middle;\n",
       "    }\n",
       "\n",
       "    .dataframe tbody tr th {\n",
       "        vertical-align: top;\n",
       "    }\n",
       "\n",
       "    .dataframe thead th {\n",
       "        text-align: right;\n",
       "    }\n",
       "</style>\n",
       "<table border=\"1\" class=\"dataframe\">\n",
       "  <thead>\n",
       "    <tr style=\"text-align: right;\">\n",
       "      <th></th>\n",
       "      <th>Market_Segment</th>\n",
       "      <th>mean</th>\n",
       "      <th>std</th>\n",
       "      <th>CoV</th>\n",
       "    </tr>\n",
       "  </thead>\n",
       "  <tbody>\n",
       "    <tr>\n",
       "      <th>0</th>\n",
       "      <td>APAC_Consumer</td>\n",
       "      <td>4400.894243</td>\n",
       "      <td>2300.457687</td>\n",
       "      <td>0.522725</td>\n",
       "    </tr>\n",
       "    <tr>\n",
       "      <th>1</th>\n",
       "      <td>APAC_Corporate</td>\n",
       "      <td>2574.919807</td>\n",
       "      <td>1364.837734</td>\n",
       "      <td>0.530051</td>\n",
       "    </tr>\n",
       "    <tr>\n",
       "      <th>12</th>\n",
       "      <td>EU_Consumer</td>\n",
       "      <td>3699.977143</td>\n",
       "      <td>2202.282289</td>\n",
       "      <td>0.595215</td>\n",
       "    </tr>\n",
       "    <tr>\n",
       "      <th>15</th>\n",
       "      <td>LATAM_Consumer</td>\n",
       "      <td>2295.555697</td>\n",
       "      <td>1569.632686</td>\n",
       "      <td>0.683770</td>\n",
       "    </tr>\n",
       "    <tr>\n",
       "      <th>13</th>\n",
       "      <td>EU_Corporate</td>\n",
       "      <td>2216.299429</td>\n",
       "      <td>1600.336696</td>\n",
       "      <td>0.722076</td>\n",
       "    </tr>\n",
       "    <tr>\n",
       "      <th>16</th>\n",
       "      <td>LATAM_Corporate</td>\n",
       "      <td>1122.633016</td>\n",
       "      <td>990.360880</td>\n",
       "      <td>0.882177</td>\n",
       "    </tr>\n",
       "    <tr>\n",
       "      <th>14</th>\n",
       "      <td>EU_Home Office</td>\n",
       "      <td>1224.456536</td>\n",
       "      <td>1148.627937</td>\n",
       "      <td>0.938072</td>\n",
       "    </tr>\n",
       "    <tr>\n",
       "      <th>2</th>\n",
       "      <td>APAC_Home Office</td>\n",
       "      <td>1511.088314</td>\n",
       "      <td>1523.508658</td>\n",
       "      <td>1.008219</td>\n",
       "    </tr>\n",
       "    <tr>\n",
       "      <th>18</th>\n",
       "      <td>US_Consumer</td>\n",
       "      <td>2686.740912</td>\n",
       "      <td>2715.031412</td>\n",
       "      <td>1.010530</td>\n",
       "    </tr>\n",
       "    <tr>\n",
       "      <th>19</th>\n",
       "      <td>US_Corporate</td>\n",
       "      <td>1754.199083</td>\n",
       "      <td>1880.200775</td>\n",
       "      <td>1.071829</td>\n",
       "    </tr>\n",
       "    <tr>\n",
       "      <th>20</th>\n",
       "      <td>US_Home Office</td>\n",
       "      <td>1132.065762</td>\n",
       "      <td>1272.476439</td>\n",
       "      <td>1.124030</td>\n",
       "    </tr>\n",
       "    <tr>\n",
       "      <th>17</th>\n",
       "      <td>LATAM_Home Office</td>\n",
       "      <td>818.398941</td>\n",
       "      <td>957.275713</td>\n",
       "      <td>1.169693</td>\n",
       "    </tr>\n",
       "    <tr>\n",
       "      <th>6</th>\n",
       "      <td>Canada_Consumer</td>\n",
       "      <td>225.987632</td>\n",
       "      <td>282.555788</td>\n",
       "      <td>1.250315</td>\n",
       "    </tr>\n",
       "    <tr>\n",
       "      <th>3</th>\n",
       "      <td>Africa_Consumer</td>\n",
       "      <td>957.707000</td>\n",
       "      <td>1254.932072</td>\n",
       "      <td>1.310351</td>\n",
       "    </tr>\n",
       "    <tr>\n",
       "      <th>7</th>\n",
       "      <td>Canada_Corporate</td>\n",
       "      <td>90.980294</td>\n",
       "      <td>162.493114</td>\n",
       "      <td>1.786025</td>\n",
       "    </tr>\n",
       "    <tr>\n",
       "      <th>4</th>\n",
       "      <td>Africa_Corporate</td>\n",
       "      <td>412.617571</td>\n",
       "      <td>780.566850</td>\n",
       "      <td>1.891744</td>\n",
       "    </tr>\n",
       "    <tr>\n",
       "      <th>5</th>\n",
       "      <td>Africa_Home Office</td>\n",
       "      <td>377.221071</td>\n",
       "      <td>759.322203</td>\n",
       "      <td>2.012937</td>\n",
       "    </tr>\n",
       "    <tr>\n",
       "      <th>8</th>\n",
       "      <td>Canada_Home Office</td>\n",
       "      <td>118.003750</td>\n",
       "      <td>279.632866</td>\n",
       "      <td>2.369695</td>\n",
       "    </tr>\n",
       "    <tr>\n",
       "      <th>9</th>\n",
       "      <td>EMEA_Consumer</td>\n",
       "      <td>423.960286</td>\n",
       "      <td>1124.552711</td>\n",
       "      <td>2.652495</td>\n",
       "    </tr>\n",
       "    <tr>\n",
       "      <th>10</th>\n",
       "      <td>EMEA_Corporate</td>\n",
       "      <td>182.642643</td>\n",
       "      <td>1160.698430</td>\n",
       "      <td>6.355024</td>\n",
       "    </tr>\n",
       "    <tr>\n",
       "      <th>11</th>\n",
       "      <td>EMEA_Home Office</td>\n",
       "      <td>84.231366</td>\n",
       "      <td>651.283095</td>\n",
       "      <td>7.732073</td>\n",
       "    </tr>\n",
       "  </tbody>\n",
       "</table>\n",
       "</div>"
      ],
      "text/plain": [
       "        Market_Segment         mean          std       CoV\n",
       "0        APAC_Consumer  4400.894243  2300.457687  0.522725\n",
       "1       APAC_Corporate  2574.919807  1364.837734  0.530051\n",
       "12         EU_Consumer  3699.977143  2202.282289  0.595215\n",
       "15      LATAM_Consumer  2295.555697  1569.632686  0.683770\n",
       "13        EU_Corporate  2216.299429  1600.336696  0.722076\n",
       "16     LATAM_Corporate  1122.633016   990.360880  0.882177\n",
       "14      EU_Home Office  1224.456536  1148.627937  0.938072\n",
       "2     APAC_Home Office  1511.088314  1523.508658  1.008219\n",
       "18         US_Consumer  2686.740912  2715.031412  1.010530\n",
       "19        US_Corporate  1754.199083  1880.200775  1.071829\n",
       "20      US_Home Office  1132.065762  1272.476439  1.124030\n",
       "17   LATAM_Home Office   818.398941   957.275713  1.169693\n",
       "6      Canada_Consumer   225.987632   282.555788  1.250315\n",
       "3      Africa_Consumer   957.707000  1254.932072  1.310351\n",
       "7     Canada_Corporate    90.980294   162.493114  1.786025\n",
       "4     Africa_Corporate   412.617571   780.566850  1.891744\n",
       "5   Africa_Home Office   377.221071   759.322203  2.012937\n",
       "8   Canada_Home Office   118.003750   279.632866  2.369695\n",
       "9        EMEA_Consumer   423.960286  1124.552711  2.652495\n",
       "10      EMEA_Corporate   182.642643  1160.698430  6.355024\n",
       "11    EMEA_Home Office    84.231366   651.283095  7.732073"
      ]
     },
     "execution_count": 22,
     "metadata": {},
     "output_type": "execute_result"
    }
   ],
   "source": [
    "#creating a datafram with ' mean' and 'std'\n",
    "# calculating coefficient of variation (CoV)\n",
    "# sorting the rows based on CoV\n",
    "s = pd.DataFrame(mean)\n",
    "s['std'] = std\n",
    "s['CoV'] = std/mean\n",
    "s.reset_index(inplace = True)\n",
    "s.columns = ['Market_Segment','mean','std','CoV']\n",
    "s.sort_values('CoV')"
   ]
  },
  {
   "cell_type": "markdown",
   "id": "7f917ea5",
   "metadata": {},
   "source": [
    " - The most profitable market segment should have the least value of CoV\n",
    " - from the above data it is clear that 'APAC_Consumer' has the least CoV value(0.522725) among all the    market_segments.\n",
    " - So the most profitable market segment would be 'APAC_Consumer' because it has least CoV, so it is more reliable (less variation).\n",
    " - So in the next session, we could forecast the sales data of 'APAC_Consumer'"
   ]
  },
  {
   "cell_type": "markdown",
   "id": "10975e23",
   "metadata": {},
   "source": [
    "# 4. Filtering the sales data of 'APAC_Consumer' into a dataframe 'data'"
   ]
  },
  {
   "cell_type": "code",
   "execution_count": 23,
   "id": "5a3b484d",
   "metadata": {},
   "outputs": [],
   "source": [
    "#### converting 'Order Date' from datetime format to timestamp"
   ]
  },
  {
   "cell_type": "code",
   "execution_count": 24,
   "id": "6a966e45",
   "metadata": {},
   "outputs": [
    {
     "data": {
      "text/plain": [
       "period[M]"
      ]
     },
     "execution_count": 24,
     "metadata": {},
     "output_type": "execute_result"
    }
   ],
   "source": [
    "# checking datatype of 'Order Date' \n",
    "df['Order Date'].dtype"
   ]
  },
  {
   "cell_type": "code",
   "execution_count": 25,
   "id": "353221d3",
   "metadata": {},
   "outputs": [],
   "source": [
    "# converting 'Order Date' from datetime format to timestamp\n",
    "df['Order Date']=df['Order Date'].astype('str')\n",
    "df['Order Date'] = pd.to_datetime(df['Order Date'])"
   ]
  },
  {
   "cell_type": "code",
   "execution_count": 26,
   "id": "3fe3a590",
   "metadata": {},
   "outputs": [
    {
     "data": {
      "text/plain": [
       "dtype('<M8[ns]')"
      ]
     },
     "execution_count": 26,
     "metadata": {},
     "output_type": "execute_result"
    }
   ],
   "source": [
    "# checking datatype of 'Order Date' again\n",
    "df['Order Date'].dtype"
   ]
  },
  {
   "cell_type": "code",
   "execution_count": 27,
   "id": "68dc0eef",
   "metadata": {},
   "outputs": [],
   "source": [
    "# resetting the index\n",
    "df.reset_index(inplace = True)"
   ]
  },
  {
   "cell_type": "code",
   "execution_count": 28,
   "id": "d54a12a8",
   "metadata": {},
   "outputs": [],
   "source": [
    "# selecting only those entries which belongs to 'APAC_Consumer' market_segment for further analysis\n",
    "# storing them in df\n",
    "df = df[df['Market_Segment'] == 'APAC_Consumer']"
   ]
  },
  {
   "cell_type": "code",
   "execution_count": 29,
   "id": "0230ecf3",
   "metadata": {},
   "outputs": [
    {
     "data": {
      "text/html": [
       "<div>\n",
       "<style scoped>\n",
       "    .dataframe tbody tr th:only-of-type {\n",
       "        vertical-align: middle;\n",
       "    }\n",
       "\n",
       "    .dataframe tbody tr th {\n",
       "        vertical-align: top;\n",
       "    }\n",
       "\n",
       "    .dataframe thead th {\n",
       "        text-align: right;\n",
       "    }\n",
       "</style>\n",
       "<table border=\"1\" class=\"dataframe\">\n",
       "  <thead>\n",
       "    <tr style=\"text-align: right;\">\n",
       "      <th></th>\n",
       "      <th>Market_Segment</th>\n",
       "      <th>Order Date</th>\n",
       "      <th>Sales</th>\n",
       "      <th>Profit</th>\n",
       "    </tr>\n",
       "  </thead>\n",
       "  <tbody>\n",
       "    <tr>\n",
       "      <th>2</th>\n",
       "      <td>APAC_Consumer</td>\n",
       "      <td>2013-10-01</td>\n",
       "      <td>5175.171</td>\n",
       "      <td>919.971</td>\n",
       "    </tr>\n",
       "    <tr>\n",
       "      <th>6</th>\n",
       "      <td>APAC_Consumer</td>\n",
       "      <td>2011-07-01</td>\n",
       "      <td>1822.080</td>\n",
       "      <td>564.840</td>\n",
       "    </tr>\n",
       "    <tr>\n",
       "      <th>7</th>\n",
       "      <td>APAC_Consumer</td>\n",
       "      <td>2012-04-01</td>\n",
       "      <td>5244.840</td>\n",
       "      <td>996.480</td>\n",
       "    </tr>\n",
       "    <tr>\n",
       "      <th>14</th>\n",
       "      <td>APAC_Consumer</td>\n",
       "      <td>2013-06-01</td>\n",
       "      <td>3701.520</td>\n",
       "      <td>1036.080</td>\n",
       "    </tr>\n",
       "    <tr>\n",
       "      <th>29</th>\n",
       "      <td>APAC_Consumer</td>\n",
       "      <td>2012-02-01</td>\n",
       "      <td>1878.720</td>\n",
       "      <td>582.360</td>\n",
       "    </tr>\n",
       "  </tbody>\n",
       "</table>\n",
       "</div>"
      ],
      "text/plain": [
       "   Market_Segment Order Date     Sales    Profit\n",
       "2   APAC_Consumer 2013-10-01  5175.171   919.971\n",
       "6   APAC_Consumer 2011-07-01  1822.080   564.840\n",
       "7   APAC_Consumer 2012-04-01  5244.840   996.480\n",
       "14  APAC_Consumer 2013-06-01  3701.520  1036.080\n",
       "29  APAC_Consumer 2012-02-01  1878.720   582.360"
      ]
     },
     "execution_count": 29,
     "metadata": {},
     "output_type": "execute_result"
    }
   ],
   "source": [
    "df.head()"
   ]
  },
  {
   "cell_type": "code",
   "execution_count": 30,
   "id": "61e382a1",
   "metadata": {},
   "outputs": [],
   "source": [
    "# dropping 'Market_Segment' and 'Profit' columns from df\n",
    "df.drop(['Market_Segment','Profit'],axis = 1,inplace = True)"
   ]
  },
  {
   "cell_type": "code",
   "execution_count": 31,
   "id": "4f0f0979",
   "metadata": {
    "scrolled": false
   },
   "outputs": [
    {
     "data": {
      "text/html": [
       "<div>\n",
       "<style scoped>\n",
       "    .dataframe tbody tr th:only-of-type {\n",
       "        vertical-align: middle;\n",
       "    }\n",
       "\n",
       "    .dataframe tbody tr th {\n",
       "        vertical-align: top;\n",
       "    }\n",
       "\n",
       "    .dataframe thead th {\n",
       "        text-align: right;\n",
       "    }\n",
       "</style>\n",
       "<table border=\"1\" class=\"dataframe\">\n",
       "  <thead>\n",
       "    <tr style=\"text-align: right;\">\n",
       "      <th></th>\n",
       "      <th>Sales</th>\n",
       "    </tr>\n",
       "    <tr>\n",
       "      <th>Order Date</th>\n",
       "      <th></th>\n",
       "    </tr>\n",
       "  </thead>\n",
       "  <tbody>\n",
       "    <tr>\n",
       "      <th>2011-01-01</th>\n",
       "      <td>18821.9898</td>\n",
       "    </tr>\n",
       "    <tr>\n",
       "      <th>2011-02-01</th>\n",
       "      <td>23313.3531</td>\n",
       "    </tr>\n",
       "    <tr>\n",
       "      <th>2011-03-01</th>\n",
       "      <td>26518.4919</td>\n",
       "    </tr>\n",
       "    <tr>\n",
       "      <th>2011-04-01</th>\n",
       "      <td>12046.0923</td>\n",
       "    </tr>\n",
       "    <tr>\n",
       "      <th>2011-05-01</th>\n",
       "      <td>25941.9000</td>\n",
       "    </tr>\n",
       "  </tbody>\n",
       "</table>\n",
       "</div>"
      ],
      "text/plain": [
       "                 Sales\n",
       "Order Date            \n",
       "2011-01-01  18821.9898\n",
       "2011-02-01  23313.3531\n",
       "2011-03-01  26518.4919\n",
       "2011-04-01  12046.0923\n",
       "2011-05-01  25941.9000"
      ]
     },
     "execution_count": 31,
     "metadata": {},
     "output_type": "execute_result"
    }
   ],
   "source": [
    "# creating a new dataframe containg order date and corresponding aggregated sales values for 'APAC_Consumer'\n",
    "data = pd.DataFrame(df.groupby('Order Date')['Sales'].sum())\n",
    "data.head()"
   ]
  },
  {
   "cell_type": "code",
   "execution_count": 32,
   "id": "316aa7ed",
   "metadata": {},
   "outputs": [
    {
     "data": {
      "text/plain": [
       "(48, 1)"
      ]
     },
     "execution_count": 32,
     "metadata": {},
     "output_type": "execute_result"
    }
   ],
   "source": [
    "data.shape"
   ]
  },
  {
   "cell_type": "markdown",
   "id": "efcacbe1",
   "metadata": {},
   "source": [
    "# 5. Time series analysis"
   ]
  },
  {
   "cell_type": "code",
   "execution_count": 33,
   "id": "b9904692",
   "metadata": {
    "scrolled": true
   },
   "outputs": [
    {
     "name": "stderr",
     "output_type": "stream",
     "text": [
      "No handles with labels found to put in legend.\n"
     ]
    },
    {
     "data": {
      "image/png": "[encoded data removed]",
      "text/plain": [
       "<Figure size 864x288 with 1 Axes>"
      ]
     },
     "metadata": {
      "needs_background": "light"
     },
     "output_type": "display_data"
    }
   ],
   "source": [
    "# plotting the sales data for 'APAC_Consumer'\n",
    "plt.figure(figsize = [12,4])\n",
    "plt.plot(data)\n",
    "plt.title('Retail Giant Sales data')\n",
    "plt.legend(loc= 'best')\n",
    "plt.show()"
   ]
  },
  {
   "cell_type": "code",
   "execution_count": 34,
   "id": "1a449617",
   "metadata": {},
   "outputs": [
    {
     "data": {
      "text/plain": [
       "Sales    0\n",
       "dtype: int64"
      ]
     },
     "execution_count": 34,
     "metadata": {},
     "output_type": "execute_result"
    }
   ],
   "source": [
    "# checking for missing values\n",
    "data.isnull().sum()"
   ]
  },
  {
   "cell_type": "markdown",
   "id": "580f0e13",
   "metadata": {},
   "source": [
    "-  there are no missing values  in the sales data of 'APAC_Consumer'"
   ]
  },
  {
   "cell_type": "code",
   "execution_count": 35,
   "id": "336ac5ee",
   "metadata": {
    "scrolled": true
   },
   "outputs": [
    {
     "data": {
      "text/plain": [
       "<AxesSubplot:xlabel='Sales'>"
      ]
     },
     "execution_count": 35,
     "metadata": {},
     "output_type": "execute_result"
    },
    {
     "data": {
      "image/png": "[encoded data removed]",
      "text/plain": [
       "<Figure size 864x144 with 1 Axes>"
      ]
     },
     "metadata": {
      "needs_background": "light"
     },
     "output_type": "display_data"
    }
   ],
   "source": [
    "# checking for outliers\n",
    "plt.figure(figsize = [12,2])\n",
    "sns.boxplot(data.Sales,whis=1.5)"
   ]
  },
  {
   "cell_type": "markdown",
   "id": "54efd642",
   "metadata": {},
   "source": [
    "- Even though there were outliers in the entire sales data, within 'APAC_Consumer' data there are no outliers."
   ]
  },
  {
   "cell_type": "code",
   "execution_count": 36,
   "id": "e741ecd7",
   "metadata": {},
   "outputs": [],
   "source": [
    "# Splitting the time series data into train and test sets"
   ]
  },
  {
   "cell_type": "code",
   "execution_count": 37,
   "id": "02f3e585",
   "metadata": {},
   "outputs": [
    {
     "data": {
      "text/plain": [
       "((42, 1), (6, 1))"
      ]
     },
     "execution_count": 37,
     "metadata": {},
     "output_type": "execute_result"
    }
   ],
   "source": [
    "train = data[:42]\n",
    "test = data[42:]\n",
    "train.shape,test.shape"
   ]
  },
  {
   "cell_type": "markdown",
   "id": "b8ed60de",
   "metadata": {},
   "source": [
    "#### Decomposing the time series data"
   ]
  },
  {
   "cell_type": "markdown",
   "id": "7ea360e7",
   "metadata": {},
   "source": [
    "- time series can be split into its various components that is the Trend, Seasonality, and residuals\n"
   ]
  },
  {
   "cell_type": "code",
   "execution_count": 38,
   "id": "d02028ac",
   "metadata": {},
   "outputs": [],
   "source": [
    "#Additive"
   ]
  },
  {
   "cell_type": "markdown",
   "id": "9e21c4da",
   "metadata": {},
   "source": [
    "- \n",
    "\n",
    "The individual components can be added to get the time-series data\n"
   ]
  },
  {
   "cell_type": "code",
   "execution_count": 39,
   "id": "0695e9a8",
   "metadata": {},
   "outputs": [],
   "source": [
    "from pylab import rcParams\n",
    "import statsmodels.api as sm"
   ]
  },
  {
   "cell_type": "code",
   "execution_count": 40,
   "id": "d35a89f6",
   "metadata": {},
   "outputs": [
    {
     "data": {
      "image/png": "[encoded data removed]",
      "text/plain": [
       "<Figure size 864x576 with 4 Axes>"
      ]
     },
     "metadata": {
      "needs_background": "light"
     },
     "output_type": "display_data"
    }
   ],
   "source": [
    "rcParams['figure.figsize'] = [12,8]\n",
    "decomposition = sm.tsa.seasonal_decompose(data.Sales,model = 'additive')\n",
    "decomposition.plot()\n",
    "plt.show()"
   ]
  },
  {
   "cell_type": "code",
   "execution_count": 41,
   "id": "09e10200",
   "metadata": {},
   "outputs": [],
   "source": [
    "### Multiplicative seasonal decomposition"
   ]
  },
  {
   "cell_type": "markdown",
   "id": "f7816324",
   "metadata": {},
   "source": [
    "\n",
    "- The individual components can be multiplied to get the time-series data"
   ]
  },
  {
   "cell_type": "code",
   "execution_count": 42,
   "id": "46529971",
   "metadata": {},
   "outputs": [
    {
     "data": {
      "image/png": "[encoded data removed]",
      "text/plain": [
       "<Figure size 864x576 with 4 Axes>"
      ]
     },
     "metadata": {
      "needs_background": "light"
     },
     "output_type": "display_data"
    }
   ],
   "source": [
    "decomposition = sm.tsa.seasonal_decompose(data.Sales,model = 'multiplicative')\n",
    "decomposition.plot()\n",
    "plt.show()"
   ]
  },
  {
   "cell_type": "markdown",
   "id": "1f73d5b9",
   "metadata": {},
   "source": [
    "- Our time series has more than 10 historical data points\n",
    "- There is a upward trend\n",
    "- There is a seasonal component\n",
    "So from the flow chart of time series models, it is expected that `Holt Winters' smoothing method and SARIMA model` can better forecast  the monthly sales"
   ]
  },
  {
   "cell_type": "markdown",
   "id": "191bb63d",
   "metadata": {},
   "source": [
    "#  6. Exponential smoothing methods"
   ]
  },
  {
   "cell_type": "markdown",
   "id": "1678c8cf",
   "metadata": {},
   "source": [
    "####     6.1.Simple exponential smoothing"
   ]
  },
  {
   "cell_type": "code",
   "execution_count": 43,
   "id": "98a01aae",
   "metadata": {},
   "outputs": [],
   "source": [
    "from statsmodels.tsa.holtwinters import SimpleExpSmoothing"
   ]
  },
  {
   "cell_type": "markdown",
   "id": "a775dadb",
   "metadata": {},
   "source": [
    "- In this smoothing technique, the forecast observation data, is a function of the level component"
   ]
  },
  {
   "cell_type": "code",
   "execution_count": 44,
   "id": "4fd97c56",
   "metadata": {},
   "outputs": [
    {
     "name": "stderr",
     "output_type": "stream",
     "text": [
      "C:\\Users\\aksha\\anaconda3\\lib\\site-packages\\statsmodels\\tsa\\base\\tsa_model.py:524: ValueWarning: No frequency information was provided, so inferred frequency MS will be used.\n",
      "  warnings.warn('No frequency information was'\n",
      "C:\\Users\\aksha\\anaconda3\\lib\\site-packages\\statsmodels\\tsa\\holtwinters\\model.py:920: ConvergenceWarning: Optimization failed to converge. Check mle_retvals.\n",
      "  warnings.warn(\n"
     ]
    },
    {
     "data": {
      "text/plain": [
       "{'smoothing_level': 0.24674418604651163,\n",
       " 'smoothing_trend': nan,\n",
       " 'smoothing_seasonal': nan,\n",
       " 'damping_trend': nan,\n",
       " 'initial_level': 18821.9898,\n",
       " 'initial_trend': nan,\n",
       " 'initial_seasons': array([], dtype=float64),\n",
       " 'use_boxcox': False,\n",
       " 'lamda': None,\n",
       " 'remove_bias': False}"
      ]
     },
     "execution_count": 44,
     "metadata": {},
     "output_type": "execute_result"
    }
   ],
   "source": [
    "#model building using train set\n",
    "model = SimpleExpSmoothing(train.Sales)\n",
    "model_fit = model.fit(optimized=True)\n",
    "model_fit.params"
   ]
  },
  {
   "cell_type": "code",
   "execution_count": 45,
   "id": "140feb22",
   "metadata": {},
   "outputs": [],
   "source": [
    "# forecasting the sales for next 6 months\n",
    "y_hat_ses = test.copy()\n",
    "y_hat_ses['ses_forecast'] = model_fit.forecast(6)"
   ]
  },
  {
   "cell_type": "code",
   "execution_count": 46,
   "id": "d165638d",
   "metadata": {},
   "outputs": [],
   "source": [
    "### Plot train, test and forecast"
   ]
  },
  {
   "cell_type": "code",
   "execution_count": 47,
   "id": "0804b758",
   "metadata": {
    "scrolled": false
   },
   "outputs": [
    {
     "data": {
      "image/png": "[encoded data removed]",
      "text/plain": [
       "<Figure size 864x288 with 1 Axes>"
      ]
     },
     "metadata": {
      "needs_background": "light"
     },
     "output_type": "display_data"
    }
   ],
   "source": [
    "plt.figure(figsize = [12,4])\n",
    "plt.plot(train,label = 'Train')\n",
    "plt.plot(test,label = 'Test')\n",
    "plt.plot(y_hat_ses.ses_forecast,label='ses forecast')\n",
    "plt.legend(loc = 'best')\n",
    "plt.title('ses forecast')\n",
    "plt.show()"
   ]
  },
  {
   "cell_type": "markdown",
   "id": "5345bbcc",
   "metadata": {},
   "source": [
    " - Simple exponential model is able to capture only the level of time series data"
   ]
  },
  {
   "cell_type": "code",
   "execution_count": 48,
   "id": "e694084f",
   "metadata": {},
   "outputs": [],
   "source": [
    "### Calculating RMSE and MAPE"
   ]
  },
  {
   "cell_type": "code",
   "execution_count": 49,
   "id": "cfcc8aac",
   "metadata": {},
   "outputs": [],
   "source": [
    "from sklearn.metrics import mean_squared_error"
   ]
  },
  {
   "cell_type": "code",
   "execution_count": 50,
   "id": "750938bb",
   "metadata": {},
   "outputs": [],
   "source": [
    "rmse = np.sqrt(mean_squared_error(test.Sales,y_hat_ses.ses_forecast)).round(2)\n",
    "mape = np.round(np.mean(np.abs(test.Sales-y_hat_ses.ses_forecast)/test.Sales)*100,2)"
   ]
  },
  {
   "cell_type": "code",
   "execution_count": 51,
   "id": "4f9f034b",
   "metadata": {},
   "outputs": [
    {
     "data": {
      "text/html": [
       "<div>\n",
       "<style scoped>\n",
       "    .dataframe tbody tr th:only-of-type {\n",
       "        vertical-align: middle;\n",
       "    }\n",
       "\n",
       "    .dataframe tbody tr th {\n",
       "        vertical-align: top;\n",
       "    }\n",
       "\n",
       "    .dataframe thead th {\n",
       "        text-align: right;\n",
       "    }\n",
       "</style>\n",
       "<table border=\"1\" class=\"dataframe\">\n",
       "  <thead>\n",
       "    <tr style=\"text-align: right;\">\n",
       "      <th></th>\n",
       "      <th>Method</th>\n",
       "      <th>RMSE</th>\n",
       "      <th>MAPE</th>\n",
       "    </tr>\n",
       "  </thead>\n",
       "  <tbody>\n",
       "    <tr>\n",
       "      <th>0</th>\n",
       "      <td>Simple exponential smoothing</td>\n",
       "      <td>14627.34</td>\n",
       "      <td>15.74</td>\n",
       "    </tr>\n",
       "  </tbody>\n",
       "</table>\n",
       "</div>"
      ],
      "text/plain": [
       "                         Method      RMSE   MAPE\n",
       "0  Simple exponential smoothing  14627.34  15.74"
      ]
     },
     "execution_count": 51,
     "metadata": {},
     "output_type": "execute_result"
    }
   ],
   "source": [
    "# creating a dataframe to store rmse an mape values\n",
    "smoothing_results = pd.DataFrame({'Method':['Simple exponential smoothing'],'RMSE':[rmse],\n",
    "                               'MAPE':[mape] })\n",
    "\n",
    "smoothing_results"
   ]
  },
  {
   "cell_type": "markdown",
   "id": "e1be214e",
   "metadata": {},
   "source": [
    "#### 6.2 Holt’s exponential smoothing"
   ]
  },
  {
   "cell_type": "code",
   "execution_count": 52,
   "id": "37533520",
   "metadata": {},
   "outputs": [],
   "source": [
    "from statsmodels.tsa.holtwinters import ExponentialSmoothing"
   ]
  },
  {
   "cell_type": "code",
   "execution_count": 53,
   "id": "51b955bd",
   "metadata": {
    "scrolled": true
   },
   "outputs": [
    {
     "data": {
      "text/plain": [
       "{'smoothing_level': 0.2,\n",
       " 'smoothing_trend': 0.01,\n",
       " 'smoothing_seasonal': None,\n",
       " 'damping_trend': nan,\n",
       " 'initial_level': 18821.9898,\n",
       " 'initial_trend': 4491.363300000001,\n",
       " 'initial_seasons': array([], dtype=float64),\n",
       " 'use_boxcox': False,\n",
       " 'lamda': None,\n",
       " 'remove_bias': False}"
      ]
     },
     "execution_count": 53,
     "metadata": {},
     "output_type": "execute_result"
    }
   ],
   "source": [
    "#model building using train set\n",
    "model = ExponentialSmoothing(np.asarray(train.Sales),seasonal_periods = 12,\n",
    "                          trend = 'additive',seasonal = None)\n",
    "model_fit = model.fit(smoothing_level=0.2,smoothing_slope = 0.01,optimized  = False)\n",
    "model_fit.params"
   ]
  },
  {
   "cell_type": "code",
   "execution_count": 54,
   "id": "be096860",
   "metadata": {},
   "outputs": [],
   "source": [
    "#forecasting the sales for next 6 months using the model\n",
    "y_hat_holt = test.copy()\n",
    "y_hat_holt['holt_forecast'] = model_fit.forecast(6)"
   ]
  },
  {
   "cell_type": "code",
   "execution_count": 55,
   "id": "c0237752",
   "metadata": {},
   "outputs": [],
   "source": [
    "### Plotting train, test and forecast"
   ]
  },
  {
   "cell_type": "code",
   "execution_count": 56,
   "id": "b4a95b2e",
   "metadata": {
    "scrolled": false
   },
   "outputs": [
    {
     "data": {
      "image/png": "[encoded data removed]",
      "text/plain": [
       "<Figure size 864x288 with 1 Axes>"
      ]
     },
     "metadata": {
      "needs_background": "light"
     },
     "output_type": "display_data"
    }
   ],
   "source": [
    "plt.figure(figsize = [12,4])\n",
    "plt.plot(train,label = 'Train')\n",
    "plt.plot(test,label = 'Test')\n",
    "plt.plot(y_hat_holt.holt_forecast,label='holt_forecast')\n",
    "plt.legend(loc='best')\n",
    "plt.title('holt_forecast')\n",
    "plt.show()"
   ]
  },
  {
   "cell_type": "markdown",
   "id": "8cde4fe3",
   "metadata": {},
   "source": [
    " - Holt's method captures both level and slope"
   ]
  },
  {
   "cell_type": "code",
   "execution_count": 57,
   "id": "d98082ab",
   "metadata": {},
   "outputs": [],
   "source": [
    "### Calculating RMSE and MAPE"
   ]
  },
  {
   "cell_type": "code",
   "execution_count": 58,
   "id": "e8c5e9d8",
   "metadata": {},
   "outputs": [],
   "source": [
    "rmse = np.sqrt(mean_squared_error(test.Sales,y_hat_holt.holt_forecast)).round(2)\n",
    "mape = np.round(np.mean(np.abs(test.Sales-y_hat_holt.holt_forecast)/test.Sales)*100,2)"
   ]
  },
  {
   "cell_type": "code",
   "execution_count": 59,
   "id": "e1e54523",
   "metadata": {},
   "outputs": [
    {
     "data": {
      "text/html": [
       "<div>\n",
       "<style scoped>\n",
       "    .dataframe tbody tr th:only-of-type {\n",
       "        vertical-align: middle;\n",
       "    }\n",
       "\n",
       "    .dataframe tbody tr th {\n",
       "        vertical-align: top;\n",
       "    }\n",
       "\n",
       "    .dataframe thead th {\n",
       "        text-align: right;\n",
       "    }\n",
       "</style>\n",
       "<table border=\"1\" class=\"dataframe\">\n",
       "  <thead>\n",
       "    <tr style=\"text-align: right;\">\n",
       "      <th></th>\n",
       "      <th>Method</th>\n",
       "      <th>RMSE</th>\n",
       "      <th>MAPE</th>\n",
       "    </tr>\n",
       "  </thead>\n",
       "  <tbody>\n",
       "    <tr>\n",
       "      <th>0</th>\n",
       "      <td>Simple exponential smoothing</td>\n",
       "      <td>14627.34</td>\n",
       "      <td>15.74</td>\n",
       "    </tr>\n",
       "    <tr>\n",
       "      <th>0</th>\n",
       "      <td>Holt's exponential smoothing</td>\n",
       "      <td>18976.37</td>\n",
       "      <td>34.57</td>\n",
       "    </tr>\n",
       "  </tbody>\n",
       "</table>\n",
       "</div>"
      ],
      "text/plain": [
       "                         Method      RMSE   MAPE\n",
       "0  Simple exponential smoothing  14627.34  15.74\n",
       "0  Holt's exponential smoothing  18976.37  34.57"
      ]
     },
     "execution_count": 59,
     "metadata": {},
     "output_type": "execute_result"
    }
   ],
   "source": [
    "#adding the reslt to previously created dataframe s\n",
    "s= pd.DataFrame({'Method':['Holt\\'s exponential smoothing'],'RMSE':[rmse],\n",
    "                               'MAPE':[mape] })\n",
    "\n",
    "smoothing_results = pd.concat([smoothing_results,s])\n",
    "smoothing_results"
   ]
  },
  {
   "cell_type": "markdown",
   "id": "dc03ddd1",
   "metadata": {},
   "source": [
    "#### 6.3 Holt-Winters’ exponential smoothing - Additive"
   ]
  },
  {
   "cell_type": "markdown",
   "id": "65acc8d5",
   "metadata": {},
   "source": [
    "\n",
    "\n",
    "- Forecasts based on level, trend and seasonality of a time series\n"
   ]
  },
  {
   "cell_type": "code",
   "execution_count": 60,
   "id": "b7660750",
   "metadata": {},
   "outputs": [
    {
     "name": "stderr",
     "output_type": "stream",
     "text": [
      "C:\\Users\\aksha\\anaconda3\\lib\\site-packages\\statsmodels\\tsa\\holtwinters\\model.py:920: ConvergenceWarning: Optimization failed to converge. Check mle_retvals.\n",
      "  warnings.warn(\n"
     ]
    },
    {
     "data": {
      "text/plain": [
       "{'smoothing_level': 0.07571428571428572,\n",
       " 'smoothing_trend': 0.010816326530612248,\n",
       " 'smoothing_seasonal': 0.1026984126984127,\n",
       " 'damping_trend': nan,\n",
       " 'initial_level': 34110.965325000005,\n",
       " 'initial_trend': 730.4167145833334,\n",
       " 'initial_seasons': array([-15288.975525, -10797.612225,  -7592.473425, -22064.873025,\n",
       "         -8169.065325,  -3712.033725, -11679.370425, -13779.891825,\n",
       "         -9250.570425,    676.322775,  -4462.610625,  -3556.103925]),\n",
       " 'use_boxcox': False,\n",
       " 'lamda': None,\n",
       " 'remove_bias': False}"
      ]
     },
     "execution_count": 60,
     "metadata": {},
     "output_type": "execute_result"
    }
   ],
   "source": [
    "#model building\n",
    "model = ExponentialSmoothing(np.asarray(train.Sales),seasonal_periods=12,\n",
    "                            trend= 'add',seasonal='add')\n",
    "model_fit = model.fit(optimized=True)\n",
    "model_fit.params"
   ]
  },
  {
   "cell_type": "code",
   "execution_count": 61,
   "id": "3b0fe565",
   "metadata": {},
   "outputs": [],
   "source": [
    "# forecasting sales for next 6 months\n",
    "y_hat_hwa = test.copy()\n",
    "y_hat_hwa['hwa_forecast'] = model_fit.forecast(6)"
   ]
  },
  {
   "cell_type": "code",
   "execution_count": 62,
   "id": "7b5c10fa",
   "metadata": {
    "scrolled": false
   },
   "outputs": [
    {
     "data": {
      "image/png": "[encoded data removed]",
      "text/plain": [
       "<Figure size 864x288 with 1 Axes>"
      ]
     },
     "metadata": {
      "needs_background": "light"
     },
     "output_type": "display_data"
    }
   ],
   "source": [
    "#### Plotting train, test and forecast\n",
    "plt.figure(figsize = [12,4])\n",
    "plt.plot(train,label = 'Train')\n",
    "plt.plot(test,label = 'Test')\n",
    "plt.plot(y_hat_hwa.hwa_forecast,label='Holt Winters\\'s additive forecast')\n",
    "plt.legend(loc = 'best')\n",
    "plt.title('Holt Winters\\'s additive forecast')\n",
    "plt.show()"
   ]
  },
  {
   "cell_type": "markdown",
   "id": "7f6171cd",
   "metadata": {},
   "source": [
    " - Holt Winters's additive forecastable to capture seasonal variation, trend and level"
   ]
  },
  {
   "cell_type": "code",
   "execution_count": 63,
   "id": "e6877c91",
   "metadata": {},
   "outputs": [],
   "source": [
    "### Calculating RMSE and MAPE\n",
    "rmse = np.sqrt(mean_squared_error(test.Sales,y_hat_hwa.hwa_forecast)).round(2)\n",
    "mape = np.round(np.mean(np.abs(test.Sales-y_hat_hwa.hwa_forecast)/test.Sales)*100,2)"
   ]
  },
  {
   "cell_type": "code",
   "execution_count": 64,
   "id": "42a3b6c1",
   "metadata": {
    "scrolled": true
   },
   "outputs": [
    {
     "data": {
      "text/html": [
       "<div>\n",
       "<style scoped>\n",
       "    .dataframe tbody tr th:only-of-type {\n",
       "        vertical-align: middle;\n",
       "    }\n",
       "\n",
       "    .dataframe tbody tr th {\n",
       "        vertical-align: top;\n",
       "    }\n",
       "\n",
       "    .dataframe thead th {\n",
       "        text-align: right;\n",
       "    }\n",
       "</style>\n",
       "<table border=\"1\" class=\"dataframe\">\n",
       "  <thead>\n",
       "    <tr style=\"text-align: right;\">\n",
       "      <th></th>\n",
       "      <th>Method</th>\n",
       "      <th>RMSE</th>\n",
       "      <th>MAPE</th>\n",
       "    </tr>\n",
       "  </thead>\n",
       "  <tbody>\n",
       "    <tr>\n",
       "      <th>0</th>\n",
       "      <td>Simple exponential smoothing</td>\n",
       "      <td>14627.34</td>\n",
       "      <td>15.74</td>\n",
       "    </tr>\n",
       "    <tr>\n",
       "      <th>0</th>\n",
       "      <td>Holt's exponential smoothing</td>\n",
       "      <td>18976.37</td>\n",
       "      <td>34.57</td>\n",
       "    </tr>\n",
       "    <tr>\n",
       "      <th>0</th>\n",
       "      <td>Holt Winters's additive forecast</td>\n",
       "      <td>9306.82</td>\n",
       "      <td>10.17</td>\n",
       "    </tr>\n",
       "  </tbody>\n",
       "</table>\n",
       "</div>"
      ],
      "text/plain": [
       "                             Method      RMSE   MAPE\n",
       "0      Simple exponential smoothing  14627.34  15.74\n",
       "0      Holt's exponential smoothing  18976.37  34.57\n",
       "0  Holt Winters's additive forecast   9306.82  10.17"
      ]
     },
     "execution_count": 64,
     "metadata": {},
     "output_type": "execute_result"
    }
   ],
   "source": [
    "s= pd.DataFrame({'Method':['Holt Winters\\'s additive forecast'],'RMSE':[rmse],\n",
    "                               'MAPE':[mape] })\n",
    "\n",
    "smoothing_results = pd.concat([smoothing_results,s])\n",
    "smoothing_results"
   ]
  },
  {
   "cell_type": "markdown",
   "id": "e5688f7e",
   "metadata": {},
   "source": [
    "#### 6.4 Holt-Winters’ exponential smoothing - Multiplicative"
   ]
  },
  {
   "cell_type": "code",
   "execution_count": 65,
   "id": "d9daae82",
   "metadata": {},
   "outputs": [
    {
     "name": "stdout",
     "output_type": "stream",
     "text": [
      "{'smoothing_level': 0.040357142857142855, 'smoothing_trend': 0.0001, 'smoothing_seasonal': 0.13709183673469388, 'damping_trend': nan, 'initial_level': 34110.965325000005, 'initial_trend': 730.4167145833334, 'initial_seasons': array([0.55178708, 0.68345627, 0.77741839, 0.35314428, 0.76051498,\n",
      "       0.8911777 , 0.65760657, 0.5960275 , 0.72880948, 1.01982714,\n",
      "       0.86917372, 0.89574895]), 'use_boxcox': False, 'lamda': None, 'remove_bias': False}\n"
     ]
    },
    {
     "name": "stderr",
     "output_type": "stream",
     "text": [
      "C:\\Users\\aksha\\anaconda3\\lib\\site-packages\\statsmodels\\tsa\\holtwinters\\model.py:920: ConvergenceWarning: Optimization failed to converge. Check mle_retvals.\n",
      "  warnings.warn(\n"
     ]
    }
   ],
   "source": [
    "#model building using train set\n",
    "model = ExponentialSmoothing(np.asarray(train.Sales),seasonal_periods=12,\n",
    "                            trend = 'add',seasonal='multiplicative')\n",
    "model_fit = model.fit(optimized=True)\n",
    "print(model_fit.params)"
   ]
  },
  {
   "cell_type": "code",
   "execution_count": 66,
   "id": "0353be19",
   "metadata": {},
   "outputs": [],
   "source": [
    "# forecasting sales for next 6 months using the model\n",
    "y_hat_hwm = test.copy()\n",
    "y_hat_hwm['hwm_forecast'] = model_fit.forecast(6)"
   ]
  },
  {
   "cell_type": "code",
   "execution_count": 67,
   "id": "bc038a52",
   "metadata": {},
   "outputs": [],
   "source": [
    "#### Plotting train, test and forecast"
   ]
  },
  {
   "cell_type": "code",
   "execution_count": 68,
   "id": "eaf7742d",
   "metadata": {
    "scrolled": true
   },
   "outputs": [
    {
     "data": {
      "image/png": "[encoded data removed]",
      "text/plain": [
       "<Figure size 864x288 with 1 Axes>"
      ]
     },
     "metadata": {
      "needs_background": "light"
     },
     "output_type": "display_data"
    }
   ],
   "source": [
    "plt.figure(figsize = [12,4])\n",
    "plt.plot(train,label = 'Train')\n",
    "plt.plot(test,label = 'Test')\n",
    "plt.plot(y_hat_hwm.hwm_forecast,label= 'Holt Winters\\'s multiplicative forecast')\n",
    "plt.legend(loc = 'best')\n",
    "plt.title('Holt Winters\\'s multiplicative forecast')\n",
    "plt.show()"
   ]
  },
  {
   "cell_type": "code",
   "execution_count": 69,
   "id": "5708dbe7",
   "metadata": {},
   "outputs": [],
   "source": [
    "### Calculating RMSE and MAPE\n",
    "rmse = np.sqrt(mean_squared_error(test.Sales,y_hat_hwm.hwm_forecast)).round(2)\n",
    "mape = np.round(np.mean(np.abs(test.Sales-y_hat_hwm.hwm_forecast)/test.Sales)*100,2)"
   ]
  },
  {
   "cell_type": "code",
   "execution_count": 70,
   "id": "174320ae",
   "metadata": {
    "scrolled": false
   },
   "outputs": [
    {
     "data": {
      "text/html": [
       "<div>\n",
       "<style scoped>\n",
       "    .dataframe tbody tr th:only-of-type {\n",
       "        vertical-align: middle;\n",
       "    }\n",
       "\n",
       "    .dataframe tbody tr th {\n",
       "        vertical-align: top;\n",
       "    }\n",
       "\n",
       "    .dataframe thead th {\n",
       "        text-align: right;\n",
       "    }\n",
       "</style>\n",
       "<table border=\"1\" class=\"dataframe\">\n",
       "  <thead>\n",
       "    <tr style=\"text-align: right;\">\n",
       "      <th></th>\n",
       "      <th>Method</th>\n",
       "      <th>RMSE</th>\n",
       "      <th>MAPE</th>\n",
       "    </tr>\n",
       "  </thead>\n",
       "  <tbody>\n",
       "    <tr>\n",
       "      <th>0</th>\n",
       "      <td>Simple exponential smoothing</td>\n",
       "      <td>14627.34</td>\n",
       "      <td>15.74</td>\n",
       "    </tr>\n",
       "    <tr>\n",
       "      <th>0</th>\n",
       "      <td>Holt's exponential smoothing</td>\n",
       "      <td>18976.37</td>\n",
       "      <td>34.57</td>\n",
       "    </tr>\n",
       "    <tr>\n",
       "      <th>0</th>\n",
       "      <td>Holt Winters's additive forecast</td>\n",
       "      <td>9306.82</td>\n",
       "      <td>10.17</td>\n",
       "    </tr>\n",
       "    <tr>\n",
       "      <th>0</th>\n",
       "      <td>Holt Winters' multiplicative method</td>\n",
       "      <td>9423.23</td>\n",
       "      <td>11.43</td>\n",
       "    </tr>\n",
       "  </tbody>\n",
       "</table>\n",
       "</div>"
      ],
      "text/plain": [
       "                                Method      RMSE   MAPE\n",
       "0         Simple exponential smoothing  14627.34  15.74\n",
       "0         Holt's exponential smoothing  18976.37  34.57\n",
       "0     Holt Winters's additive forecast   9306.82  10.17\n",
       "0  Holt Winters' multiplicative method   9423.23  11.43"
      ]
     },
     "execution_count": 70,
     "metadata": {},
     "output_type": "execute_result"
    }
   ],
   "source": [
    "# adding results to s\n",
    "s= pd.DataFrame({'Method':['Holt Winters\\' multiplicative method'],'RMSE':[rmse],\n",
    "                               'MAPE':[mape] })\n",
    "\n",
    "smoothing_results = pd.concat([smoothing_results,s])\n",
    "smoothing_results"
   ]
  },
  {
   "cell_type": "markdown",
   "id": "1e5d08c1",
   "metadata": {},
   "source": [
    " - Among the various smoothing techniques performed Holt Winters's additive forecast has the least mape and rmse values\n",
    " -  \tHolt Winters' additive forecast is the best technique for forecasting the sales for next 6 months."
   ]
  },
  {
   "cell_type": "markdown",
   "id": "8403640e",
   "metadata": {},
   "source": [
    "# 7. ARIMA set of techniques"
   ]
  },
  {
   "cell_type": "markdown",
   "id": "60879c5d",
   "metadata": {},
   "source": [
    "In the AR set of methods, we will be still using the past values of the time-series, but we are also considering the correlation of those past values with the actual/current values. "
   ]
  },
  {
   "cell_type": "markdown",
   "id": "6f53daaf",
   "metadata": {},
   "source": [
    "There are two fundamental assumptions to build an autoregressive model. They are —\n",
    "\n",
    "- Stationarity\n",
    "- Autocorrelation"
   ]
  },
  {
   "cell_type": "markdown",
   "id": "96b09bed",
   "metadata": {},
   "source": [
    "#### Stationary vs Non stationary time series"
   ]
  },
  {
   "cell_type": "markdown",
   "id": "79edd54b",
   "metadata": {},
   "source": [
    "- for a statioanary time series the statistical properties remain constant over time. There will be no trend, seasonality and cyclicity in the series."
   ]
  },
  {
   "cell_type": "code",
   "execution_count": 71,
   "id": "2e0f75f7",
   "metadata": {
    "scrolled": false
   },
   "outputs": [
    {
     "data": {
      "image/png": "[encoded data removed]",
      "text/plain": [
       "<Figure size 864x288 with 1 Axes>"
      ]
     },
     "metadata": {
      "needs_background": "light"
     },
     "output_type": "display_data"
    }
   ],
   "source": [
    "#plotting the time series data\n",
    "plt.figure(figsize = [12,4])\n",
    "plt.plot(data.Sales,label ='Before boxcox transformation and differencing')\n",
    "plt.legend(loc = 'best')\n",
    "plt.title('Retail Giant Sales')\n",
    "plt.show()"
   ]
  },
  {
   "cell_type": "markdown",
   "id": "f868cc1e",
   "metadata": {},
   "source": [
    "- our data clearly shows an upward trend over time\n",
    "- so this couls be non stationary data , let's further confirm using adf and kpss tests."
   ]
  },
  {
   "cell_type": "markdown",
   "id": "37eef094",
   "metadata": {},
   "source": [
    "##### Augmented Dickey-Fuller (ADF) test¶"
   ]
  },
  {
   "cell_type": "code",
   "execution_count": 72,
   "id": "96892dce",
   "metadata": {},
   "outputs": [],
   "source": [
    "from statsmodels.tsa.stattools import adfuller"
   ]
  },
  {
   "cell_type": "code",
   "execution_count": 73,
   "id": "20d0b666",
   "metadata": {},
   "outputs": [
    {
     "name": "stdout",
     "output_type": "stream",
     "text": [
      "ADF Statistic: -3.376024 Critical values at 0.05: -2.93 P-value: 0.011804\n"
     ]
    }
   ],
   "source": [
    "#adf test for checking stationarity\n",
    "adf_test = adfuller(data)\n",
    "print('ADF Statistic: %f'%adf_test[0],\n",
    "      'Critical values at 0.05: %.2f'%adf_test[4]['5%'],\n",
    "      'P-value: %f'%adf_test[1])"
   ]
  },
  {
   "cell_type": "markdown",
   "id": "85f693f7",
   "metadata": {},
   "source": [
    "- Null hypothesis of ADF test is that the time series is non-stationary data\n",
    "- here p value is less than 0.05 so we can reject this null hypothesis"
   ]
  },
  {
   "cell_type": "markdown",
   "id": "f5de9167",
   "metadata": {},
   "source": [
    "##### Kwiatkowski-Phillips-Schmidt-Shin (KPSS) test"
   ]
  },
  {
   "cell_type": "code",
   "execution_count": 74,
   "id": "3044ad2a",
   "metadata": {},
   "outputs": [],
   "source": [
    "from statsmodels.tsa.stattools import kpss"
   ]
  },
  {
   "cell_type": "code",
   "execution_count": 75,
   "id": "1761415a",
   "metadata": {},
   "outputs": [
    {
     "name": "stdout",
     "output_type": "stream",
     "text": [
      "KPSS Statistic : 0.577076 Critical value at 0.05: 0.46 P- value:0.024720\n"
     ]
    }
   ],
   "source": [
    "kpss_test = kpss(data)\n",
    "print('KPSS Statistic : %f'%kpss_test[0],\n",
    "     'Critical value at 0.05: %.2f'%kpss_test[3]['5%'],\n",
    "     'P- value:%f'%kpss_test[1])"
   ]
  },
  {
   "cell_type": "markdown",
   "id": "483512bf",
   "metadata": {},
   "source": [
    "-  Null hypothesis of KPSS test is that the time series is  stationary data\n",
    "-  here p value is less than 0.05 so we  reject this null hypothesis.\n",
    "- this is a non-stationary time series data\n",
    "\n"
   ]
  },
  {
   "cell_type": "markdown",
   "id": "0415c2a1",
   "metadata": {},
   "source": [
    "\n",
    "- so let's first convert it into a stationary set\n",
    "- The two tools for converting a non-stationary series into stationary series are:\n",
    "\n",
    "    \n",
    "    Transformation\n",
    "    Differencing\n"
   ]
  },
  {
   "cell_type": "markdown",
   "id": "582f44ed",
   "metadata": {},
   "source": [
    "### Box cox transformation to make variance constant"
   ]
  },
  {
   "cell_type": "code",
   "execution_count": 76,
   "id": "af22ff57",
   "metadata": {},
   "outputs": [],
   "source": [
    "from scipy.stats import boxcox"
   ]
  },
  {
   "cell_type": "code",
   "execution_count": 77,
   "id": "83f20389",
   "metadata": {},
   "outputs": [
    {
     "data": {
      "text/plain": [
       "<matplotlib.legend.Legend at 0x296051ee100>"
      ]
     },
     "execution_count": 77,
     "metadata": {},
     "output_type": "execute_result"
    },
    {
     "data": {
      "image/png": "[encoded data removed]",
      "text/plain": [
       "<Figure size 864x288 with 1 Axes>"
      ]
     },
     "metadata": {
      "needs_background": "light"
     },
     "output_type": "display_data"
    }
   ],
   "source": [
    "data_boxcox = pd.Series(boxcox(data.Sales,lmbda=0),index = data.index)\n",
    "\n",
    "data_boxcox.plot(figsize = [12,4],label='After Box Cox tranformation')\n",
    "plt.legend(loc = 'best')"
   ]
  },
  {
   "cell_type": "markdown",
   "id": "9b0d3b37",
   "metadata": {},
   "source": [
    "### Differencing to remove trend"
   ]
  },
  {
   "cell_type": "code",
   "execution_count": 78,
   "id": "75b0ab83",
   "metadata": {
    "scrolled": true
   },
   "outputs": [
    {
     "data": {
      "text/plain": [
       "<matplotlib.legend.Legend at 0x29603e0bfa0>"
      ]
     },
     "execution_count": 78,
     "metadata": {},
     "output_type": "execute_result"
    },
    {
     "data": {
      "image/png": "[encoded data removed]",
      "text/plain": [
       "<Figure size 864x288 with 1 Axes>"
      ]
     },
     "metadata": {
      "needs_background": "light"
     },
     "output_type": "display_data"
    }
   ],
   "source": [
    "data_boxcox_diff = pd.Series(data_boxcox-data_boxcox.shift(),data.index)\n",
    "\n",
    "data_boxcox_diff.plot(figsize = [12,4],label =  'After Box Cox tranformation and differencing')\n",
    "plt.legend(loc = 'best')"
   ]
  },
  {
   "cell_type": "markdown",
   "id": "cc37e3a3",
   "metadata": {},
   "source": [
    "- looks like a stationary series\n",
    "- The fluctuations are under constant limits\n",
    "- mean is centered around zero"
   ]
  },
  {
   "cell_type": "code",
   "execution_count": 79,
   "id": "4ed794ac",
   "metadata": {
    "scrolled": true
   },
   "outputs": [
    {
     "data": {
      "text/plain": [
       "Order Date\n",
       "2011-01-01         NaN\n",
       "2011-02-01    0.214000\n",
       "2011-03-01    0.128816\n",
       "2011-04-01   -0.789102\n",
       "2011-05-01    0.767119\n",
       "dtype: float64"
      ]
     },
     "execution_count": 79,
     "metadata": {},
     "output_type": "execute_result"
    }
   ],
   "source": [
    "# data after boxcox transformation and differencing\n",
    "data_boxcox_diff.head()"
   ]
  },
  {
   "cell_type": "code",
   "execution_count": 80,
   "id": "137e7537",
   "metadata": {},
   "outputs": [],
   "source": [
    "# after differencing one row has null value, let's remove that row.\n",
    "data_boxcox_diff.dropna(inplace = True)"
   ]
  },
  {
   "cell_type": "markdown",
   "id": "75351d00",
   "metadata": {},
   "source": [
    "- Now that we have performed boxcox transformation and differencing, let's check if the data has actually converted to a stationary set, using adf and kpss tests."
   ]
  },
  {
   "cell_type": "markdown",
   "id": "79d13772",
   "metadata": {},
   "source": [
    "### Augmented Dickey-Fuller (ADF) test¶"
   ]
  },
  {
   "cell_type": "code",
   "execution_count": 81,
   "id": "bf0f5107",
   "metadata": {},
   "outputs": [
    {
     "name": "stdout",
     "output_type": "stream",
     "text": [
      "ADF Statistic: -4.535011 Critical values at 0.05: -2.95 P-value: 0.000170\n"
     ]
    }
   ],
   "source": [
    "adf_test = adfuller(data_boxcox_diff)\n",
    "print('ADF Statistic: %f'%adf_test[0],\n",
    "      'Critical values at 0.05: %.2f'%adf_test[4]['5%'],\n",
    "      'P-value: %f'%adf_test[1])"
   ]
  },
  {
   "cell_type": "markdown",
   "id": "570c3fbe",
   "metadata": {},
   "source": [
    "\n",
    "    Null hypothesis of ADF test is that the time series is-non stationary data\n",
    "    here p value is less than 0.05 so we can reject this null hypothesis.\n",
    "    we have a stationary time series data\n",
    "\n"
   ]
  },
  {
   "cell_type": "markdown",
   "id": "c0965e74",
   "metadata": {},
   "source": [
    "### Kwiatkowski-Phillips-Schmidt-Shin (KPSS) test"
   ]
  },
  {
   "cell_type": "code",
   "execution_count": 82,
   "id": "28e46727",
   "metadata": {},
   "outputs": [
    {
     "name": "stdout",
     "output_type": "stream",
     "text": [
      "KPSS Statistic : 0.156456 Critical value at 0.05: 0.46 P- value:0.100000\n"
     ]
    },
    {
     "name": "stderr",
     "output_type": "stream",
     "text": [
      "C:\\Users\\aksha\\anaconda3\\lib\\site-packages\\statsmodels\\tsa\\stattools.py:1910: InterpolationWarning: The test statistic is outside of the range of p-values available in the\n",
      "look-up table. The actual p-value is greater than the p-value returned.\n",
      "\n",
      "  warnings.warn(\n"
     ]
    }
   ],
   "source": [
    "kpss_test = kpss(data_boxcox_diff)\n",
    "print('KPSS Statistic : %f'%kpss_test[0],\n",
    "     'Critical value at 0.05: %.2f'%kpss_test[3]['5%'],\n",
    "     'P- value:%f'%kpss_test[1])"
   ]
  },
  {
   "cell_type": "markdown",
   "id": "14a6cd27",
   "metadata": {},
   "source": [
    "\n",
    "    Null hypothesis of KPSS test is that the time series is stationary data\n",
    "    here p value is greater than 0.05 so we can't reject this null hypothesis.\n",
    "    this is a stationary time series data\n",
    "\n"
   ]
  },
  {
   "cell_type": "markdown",
   "id": "0ad0e491",
   "metadata": {},
   "source": [
    "- Now that I have converted data into a stationary time series, the other requirement to build a autoregressive model is that autocorrealtion.Autocorrelation is capturing the relationship between observations yt at time t and yt−k at time k time period before t. In simpler words, autocorrelation helps us to know how a variable is influenced by its own lagged values.\n",
    "-  Autocorrelation measures are Autocorrelation function (ACF) and Partial autocorrelation function (PACF)\n",
    "- I am not plotting PACF and the ACF as it was mentioned in question that there is no need tom plot the PACF and the ACF values and can directly use p=1, q=1 and d=1 as the forecasts are relatively better for these values."
   ]
  },
  {
   "cell_type": "code",
   "execution_count": 83,
   "id": "64eb6080",
   "metadata": {},
   "outputs": [],
   "source": [
    "#let's split data data into train and test sets\n",
    "# and start building our AR models"
   ]
  },
  {
   "cell_type": "markdown",
   "id": "7e658c02",
   "metadata": {},
   "source": [
    "#### Train_test split"
   ]
  },
  {
   "cell_type": "code",
   "execution_count": 84,
   "id": "8658f8c0",
   "metadata": {},
   "outputs": [],
   "source": [
    "train_data_boxcox = data_boxcox[:42]\n",
    "test_data_boxcox = data_boxcox[42:]\n",
    "train_data_boxcox_diff = data_boxcox_diff[:41]\n",
    "test_data_boxcox_diff = data_boxcox_diff[41:]"
   ]
  },
  {
   "cell_type": "markdown",
   "id": "25dfef4f",
   "metadata": {},
   "source": [
    "#### 7.1Auto regression (AR) model"
   ]
  },
  {
   "cell_type": "markdown",
   "id": "2f8f10ed",
   "metadata": {},
   "source": [
    "- The Simple Auto Regressive model predicts the future observation as linear regression of one or more past observations.\n",
    "- This model has a parameter ‘p’ called lag order. Lag order is the maximum number of lags used to build ‘p’ number of past data points to predict future data points. \n",
    "- here p =1"
   ]
  },
  {
   "cell_type": "code",
   "execution_count": 85,
   "id": "a6fc501b",
   "metadata": {},
   "outputs": [],
   "source": [
    "from statsmodels.tsa.arima_model import ARIMA"
   ]
  },
  {
   "cell_type": "code",
   "execution_count": 86,
   "id": "fe6be856",
   "metadata": {},
   "outputs": [
    {
     "name": "stdout",
     "output_type": "stream",
     "text": [
      "const      0.024255\n",
      "ar.L1.y   -0.406729\n",
      "dtype: float64\n"
     ]
    },
    {
     "name": "stderr",
     "output_type": "stream",
     "text": [
      "C:\\Users\\aksha\\anaconda3\\lib\\site-packages\\statsmodels\\tsa\\base\\tsa_model.py:524: ValueWarning: No frequency information was provided, so inferred frequency MS will be used.\n",
      "  warnings.warn('No frequency information was'\n"
     ]
    }
   ],
   "source": [
    "#building the model\n",
    "model = ARIMA(train_data_boxcox_diff,order =(1,0,0))\n",
    "model_fit = model.fit()\n",
    "print(model_fit.params)"
   ]
  },
  {
   "cell_type": "code",
   "execution_count": 87,
   "id": "0071aa47",
   "metadata": {},
   "outputs": [],
   "source": [
    "#### Recovering the original time series\n",
    "y_hat_ar = data_boxcox_diff.copy()\n",
    "y_hat_ar['ar_forecast_boxcox_diff'] = model_fit.predict(data_boxcox_diff.index.min(),\n",
    "                                                        data_boxcox_diff.index.max())\n",
    "y_hat_ar['ar_forecast_boxcox'] = y_hat_ar['ar_forecast_boxcox_diff'].cumsum()\n",
    "y_hat_ar['ar_forecast_boxcox'] = y_hat_ar['ar_forecast_boxcox'].add(data_boxcox[0])\n",
    "y_hat_ar['ar_forecast'] = np.exp(y_hat_ar['ar_forecast_boxcox'])"
   ]
  },
  {
   "cell_type": "code",
   "execution_count": 88,
   "id": "6a18df6b",
   "metadata": {},
   "outputs": [],
   "source": [
    "#### Plotting train, test and forecast"
   ]
  },
  {
   "cell_type": "code",
   "execution_count": 89,
   "id": "335479ab",
   "metadata": {
    "scrolled": true
   },
   "outputs": [
    {
     "data": {
      "text/plain": [
       "<matplotlib.legend.Legend at 0x296059df730>"
      ]
     },
     "execution_count": 89,
     "metadata": {},
     "output_type": "execute_result"
    },
    {
     "data": {
      "image/png": "[encoded data removed]",
      "text/plain": [
       "<Figure size 864x288 with 1 Axes>"
      ]
     },
     "metadata": {
      "needs_background": "light"
     },
     "output_type": "display_data"
    }
   ],
   "source": [
    "plt.figure(figsize = [12,4])\n",
    "\n",
    "plt.plot(train, label = 'Train')\n",
    "plt.plot(test,label = 'Test')\n",
    "plt.plot(y_hat_ar['ar_forecast'][test.index.min():], label = 'Auto_regression_forecast')\n",
    "\n",
    "plt.title('Auto Regression Method')\n",
    "plt.legend(loc = 'best')"
   ]
  },
  {
   "cell_type": "markdown",
   "id": "f2205fcd",
   "metadata": {},
   "source": [
    "- model is able to capture the trend but fails to cature the seasonality in the forecast"
   ]
  },
  {
   "cell_type": "code",
   "execution_count": 90,
   "id": "c2f71874",
   "metadata": {},
   "outputs": [],
   "source": [
    "### Calculatting RMSE and MAPE\n",
    "rmse = np.sqrt(mean_squared_error(test.Sales,y_hat_ar.ar_forecast[test.index.min():])).round(2)\n",
    "mape = np.round(np.mean(np.abs(test.Sales-y_hat_ar.ar_forecast[test.index.min():])/test.Sales)*100,2)"
   ]
  },
  {
   "cell_type": "code",
   "execution_count": 91,
   "id": "4d91304d",
   "metadata": {
    "scrolled": false
   },
   "outputs": [
    {
     "data": {
      "text/html": [
       "<div>\n",
       "<style scoped>\n",
       "    .dataframe tbody tr th:only-of-type {\n",
       "        vertical-align: middle;\n",
       "    }\n",
       "\n",
       "    .dataframe tbody tr th {\n",
       "        vertical-align: top;\n",
       "    }\n",
       "\n",
       "    .dataframe thead th {\n",
       "        text-align: right;\n",
       "    }\n",
       "</style>\n",
       "<table border=\"1\" class=\"dataframe\">\n",
       "  <thead>\n",
       "    <tr style=\"text-align: right;\">\n",
       "      <th></th>\n",
       "      <th>Method</th>\n",
       "      <th>RMSE</th>\n",
       "      <th>MAPE</th>\n",
       "    </tr>\n",
       "  </thead>\n",
       "  <tbody>\n",
       "    <tr>\n",
       "      <th>0</th>\n",
       "      <td>Simple exponential smoothing</td>\n",
       "      <td>14627.34</td>\n",
       "      <td>15.74</td>\n",
       "    </tr>\n",
       "    <tr>\n",
       "      <th>0</th>\n",
       "      <td>Holt's exponential smoothing</td>\n",
       "      <td>18976.37</td>\n",
       "      <td>34.57</td>\n",
       "    </tr>\n",
       "    <tr>\n",
       "      <th>0</th>\n",
       "      <td>Holt Winters's additive forecast</td>\n",
       "      <td>9306.82</td>\n",
       "      <td>10.17</td>\n",
       "    </tr>\n",
       "    <tr>\n",
       "      <th>0</th>\n",
       "      <td>Holt Winters' multiplicative method</td>\n",
       "      <td>9423.23</td>\n",
       "      <td>11.43</td>\n",
       "    </tr>\n",
       "    <tr>\n",
       "      <th>0</th>\n",
       "      <td>Autoregressive (AR) method</td>\n",
       "      <td>10985.28</td>\n",
       "      <td>13.56</td>\n",
       "    </tr>\n",
       "  </tbody>\n",
       "</table>\n",
       "</div>"
      ],
      "text/plain": [
       "                                Method      RMSE   MAPE\n",
       "0         Simple exponential smoothing  14627.34  15.74\n",
       "0         Holt's exponential smoothing  18976.37  34.57\n",
       "0     Holt Winters's additive forecast   9306.82  10.17\n",
       "0  Holt Winters' multiplicative method   9423.23  11.43\n",
       "0           Autoregressive (AR) method  10985.28  13.56"
      ]
     },
     "execution_count": 91,
     "metadata": {},
     "output_type": "execute_result"
    }
   ],
   "source": [
    "# adding the results along with mape and rmse values of the smoothing techniques\n",
    "s= pd.DataFrame({'Method':['Autoregressive (AR) method'],'RMSE':[rmse],\n",
    "                               'MAPE':[mape] })\n",
    "\n",
    "results = pd.concat([smoothing_results,s])\n",
    "results"
   ]
  },
  {
   "cell_type": "markdown",
   "id": "139b90db",
   "metadata": {},
   "source": [
    "- simple AR model has lesser mape and rmse values than that of Holt's exponential smoothing techniques"
   ]
  },
  {
   "cell_type": "markdown",
   "id": "a37b5eb1",
   "metadata": {},
   "source": [
    "#### 7.2 Moving average method (MA)"
   ]
  },
  {
   "cell_type": "markdown",
   "id": "0acfade5",
   "metadata": {},
   "source": [
    "- The Moving Average Model models the future forecasts using past forecast errors in a regression-like model. This model has a parameter ‘q’ called window size over which linear combination of errors are calculated.\n",
    "- here q =1\n"
   ]
  },
  {
   "cell_type": "code",
   "execution_count": 92,
   "id": "767be660",
   "metadata": {},
   "outputs": [
    {
     "name": "stdout",
     "output_type": "stream",
     "text": [
      "const      0.021415\n",
      "ma.L1.y   -1.000000\n",
      "dtype: float64\n"
     ]
    },
    {
     "name": "stderr",
     "output_type": "stream",
     "text": [
      "C:\\Users\\aksha\\anaconda3\\lib\\site-packages\\statsmodels\\tsa\\base\\tsa_model.py:524: ValueWarning: No frequency information was provided, so inferred frequency MS will be used.\n",
      "  warnings.warn('No frequency information was'\n"
     ]
    }
   ],
   "source": [
    "#building the model\n",
    "model = ARIMA(train_data_boxcox_diff,order = (0,0,1))\n",
    "model_fit = model.fit()\n",
    "print(model_fit.params)"
   ]
  },
  {
   "cell_type": "code",
   "execution_count": 93,
   "id": "88e754d0",
   "metadata": {},
   "outputs": [],
   "source": [
    "#### Recovering original time series\n",
    "y_hat_ma = data_boxcox_diff.copy()\n",
    "y_hat_ma['ma_forecast_boxcox_diff'] = model_fit.predict(data_boxcox_diff.index.min(),\n",
    "                                                       data_boxcox_diff.index.max())\n",
    "y_hat_ma['ma_forecast_boxcox'] = y_hat_ma['ma_forecast_boxcox_diff'].cumsum()\n",
    "y_hat_ma['ma_forecast_boxcox'] = y_hat_ma['ma_forecast_boxcox'].add(data_boxcox[0])\n",
    "y_hat_ma['ma_forecast'] = np.exp(y_hat_ma['ma_forecast_boxcox'])"
   ]
  },
  {
   "cell_type": "code",
   "execution_count": 94,
   "id": "49980fb8",
   "metadata": {},
   "outputs": [],
   "source": [
    "#### Plotting train, test and forecast"
   ]
  },
  {
   "cell_type": "code",
   "execution_count": 95,
   "id": "f8179486",
   "metadata": {
    "scrolled": false
   },
   "outputs": [
    {
     "data": {
      "text/plain": [
       "<matplotlib.legend.Legend at 0x29605a712b0>"
      ]
     },
     "execution_count": 95,
     "metadata": {},
     "output_type": "execute_result"
    },
    {
     "data": {
      "image/png": "[encoded data removed]",
      "text/plain": [
       "<Figure size 864x288 with 1 Axes>"
      ]
     },
     "metadata": {
      "needs_background": "light"
     },
     "output_type": "display_data"
    }
   ],
   "source": [
    "plt.figure(figsize = [12,4])\n",
    "\n",
    "plt.plot(train, label = 'Train')\n",
    "plt.plot(test,label = 'Test')\n",
    "plt.plot(y_hat_ma.ma_forecast[test.index.min():], label = 'Moving Average forecast')\n",
    "\n",
    "plt.title('Moving Average Method')\n",
    "plt.legend(loc = 'best')"
   ]
  },
  {
   "cell_type": "markdown",
   "id": "e0b0ce41",
   "metadata": {},
   "source": [
    "- model is able to capture the trend but fails to capture the seasonality in the forecast"
   ]
  },
  {
   "cell_type": "code",
   "execution_count": 96,
   "id": "f9791d01",
   "metadata": {},
   "outputs": [],
   "source": [
    "### Calculating RMSE and MAPE\n",
    "rmse = np.sqrt(mean_squared_error(test.Sales,y_hat_ma.ma_forecast[test.index.min():])).round(2)\n",
    "mape = np.round(np.mean(np.abs(test.Sales-y_hat_ma.ma_forecast[test.index.min():])/test.Sales)*100,2)"
   ]
  },
  {
   "cell_type": "code",
   "execution_count": 97,
   "id": "5df1d30b",
   "metadata": {
    "scrolled": false
   },
   "outputs": [
    {
     "data": {
      "text/html": [
       "<div>\n",
       "<style scoped>\n",
       "    .dataframe tbody tr th:only-of-type {\n",
       "        vertical-align: middle;\n",
       "    }\n",
       "\n",
       "    .dataframe tbody tr th {\n",
       "        vertical-align: top;\n",
       "    }\n",
       "\n",
       "    .dataframe thead th {\n",
       "        text-align: right;\n",
       "    }\n",
       "</style>\n",
       "<table border=\"1\" class=\"dataframe\">\n",
       "  <thead>\n",
       "    <tr style=\"text-align: right;\">\n",
       "      <th></th>\n",
       "      <th>Method</th>\n",
       "      <th>RMSE</th>\n",
       "      <th>MAPE</th>\n",
       "    </tr>\n",
       "  </thead>\n",
       "  <tbody>\n",
       "    <tr>\n",
       "      <th>0</th>\n",
       "      <td>Simple exponential smoothing</td>\n",
       "      <td>14627.34</td>\n",
       "      <td>15.74</td>\n",
       "    </tr>\n",
       "    <tr>\n",
       "      <th>0</th>\n",
       "      <td>Holt's exponential smoothing</td>\n",
       "      <td>18976.37</td>\n",
       "      <td>34.57</td>\n",
       "    </tr>\n",
       "    <tr>\n",
       "      <th>0</th>\n",
       "      <td>Holt Winters's additive forecast</td>\n",
       "      <td>9306.82</td>\n",
       "      <td>10.17</td>\n",
       "    </tr>\n",
       "    <tr>\n",
       "      <th>0</th>\n",
       "      <td>Holt Winters' multiplicative method</td>\n",
       "      <td>9423.23</td>\n",
       "      <td>11.43</td>\n",
       "    </tr>\n",
       "    <tr>\n",
       "      <th>0</th>\n",
       "      <td>Autoregressive (AR) method</td>\n",
       "      <td>10985.28</td>\n",
       "      <td>13.56</td>\n",
       "    </tr>\n",
       "    <tr>\n",
       "      <th>0</th>\n",
       "      <td>Moving Average (MA) method</td>\n",
       "      <td>23360.02</td>\n",
       "      <td>33.93</td>\n",
       "    </tr>\n",
       "  </tbody>\n",
       "</table>\n",
       "</div>"
      ],
      "text/plain": [
       "                                Method      RMSE   MAPE\n",
       "0         Simple exponential smoothing  14627.34  15.74\n",
       "0         Holt's exponential smoothing  18976.37  34.57\n",
       "0     Holt Winters's additive forecast   9306.82  10.17\n",
       "0  Holt Winters' multiplicative method   9423.23  11.43\n",
       "0           Autoregressive (AR) method  10985.28  13.56\n",
       "0           Moving Average (MA) method  23360.02  33.93"
      ]
     },
     "execution_count": 97,
     "metadata": {},
     "output_type": "execute_result"
    }
   ],
   "source": [
    "# adding the rmse and mape values to results\n",
    "s= pd.DataFrame({'Method': ['Moving Average (MA) method'],'RMSE': [rmse],\n",
    "                               'MAPE':[mape] })\n",
    "\n",
    "results = pd.concat([results,s])\n",
    "results"
   ]
  },
  {
   "cell_type": "markdown",
   "id": "baabfb70",
   "metadata": {},
   "source": [
    "- Moving Average (MA) method forecasts better than Holt's exponential smoothing but worse than  \tAutoregressive (AR) method"
   ]
  },
  {
   "cell_type": "markdown",
   "id": "524a10bd",
   "metadata": {},
   "source": [
    "#### 7.3 Auto Regression Moving Average method(ARMA)"
   ]
  },
  {
   "cell_type": "markdown",
   "id": "6fe5011a",
   "metadata": {},
   "source": [
    " - ARMA(p,q) model is used to forecast A time series that exhibits the characteristics of an AR(p) and/or an MA(q)."
   ]
  },
  {
   "cell_type": "code",
   "execution_count": 98,
   "id": "8fab3ec8",
   "metadata": {},
   "outputs": [
    {
     "name": "stderr",
     "output_type": "stream",
     "text": [
      "C:\\Users\\aksha\\anaconda3\\lib\\site-packages\\statsmodels\\tsa\\base\\tsa_model.py:524: ValueWarning: No frequency information was provided, so inferred frequency MS will be used.\n",
      "  warnings.warn('No frequency information was'\n"
     ]
    },
    {
     "name": "stdout",
     "output_type": "stream",
     "text": [
      "const      0.02147\n",
      "ar.L1.y    0.07458\n",
      "ma.L1.y   -1.00000\n",
      "dtype: float64\n"
     ]
    }
   ],
   "source": [
    "# building the model\n",
    "model = ARIMA(train_data_boxcox_diff,order = (1,0,1))\n",
    "model_fit = model.fit()\n",
    "print(model_fit.params)"
   ]
  },
  {
   "cell_type": "code",
   "execution_count": 99,
   "id": "0ea1cf21",
   "metadata": {},
   "outputs": [],
   "source": [
    "#### Recovering original time series\n",
    "y_hat_arma = data_boxcox_diff.copy()\n",
    "y_hat_arma['arma_forecast_boxcox_diff'] = model_fit.predict(data_boxcox_diff.index.min(),\n",
    "                                                           data_boxcox_diff.index.max())\n",
    "y_hat_arma['arma_forecast_boxcox']  = y_hat_arma['arma_forecast_boxcox_diff'].cumsum()\n",
    "y_hat_arma['arma_forecast_boxcox'] = y_hat_arma['arma_forecast_boxcox'].add(data_boxcox[0])\n",
    "y_hat_arma['arma_forecast'] = np.exp(y_hat_arma['arma_forecast_boxcox'] ) "
   ]
  },
  {
   "cell_type": "code",
   "execution_count": 100,
   "id": "5a09209a",
   "metadata": {},
   "outputs": [],
   "source": [
    "#### Plotting train, test and forecast"
   ]
  },
  {
   "cell_type": "code",
   "execution_count": 101,
   "id": "2b4f9345",
   "metadata": {
    "scrolled": false
   },
   "outputs": [
    {
     "data": {
      "text/plain": [
       "<matplotlib.legend.Legend at 0x29605b0f880>"
      ]
     },
     "execution_count": 101,
     "metadata": {},
     "output_type": "execute_result"
    },
    {
     "data": {
      "image/png": "[encoded data removed]",
      "text/plain": [
       "<Figure size 864x288 with 1 Axes>"
      ]
     },
     "metadata": {
      "needs_background": "light"
     },
     "output_type": "display_data"
    }
   ],
   "source": [
    "plt.figure(figsize = [12,4])\n",
    "\n",
    "plt.plot(train, label = 'Train')\n",
    "plt.plot(test,label = 'Test')\n",
    "plt.plot(y_hat_arma.arma_forecast[test.index.min():], label = 'ARMA_forecast')\n",
    "\n",
    "plt.title('ARMA Method')\n",
    "plt.legend(loc = 'best')"
   ]
  },
  {
   "cell_type": "markdown",
   "id": "79b27cca",
   "metadata": {},
   "source": [
    "- model is able to capture the trend but fails to cature the seasonality in the forecast"
   ]
  },
  {
   "cell_type": "code",
   "execution_count": 102,
   "id": "9e337dd9",
   "metadata": {},
   "outputs": [],
   "source": [
    "### Calculating RMSE and MAPE\n",
    "rmse = np.sqrt(mean_squared_error(test.Sales,y_hat_arma.arma_forecast[test.index.min():])).round(2)\n",
    "mape = np.round(np.mean(np.abs(test.Sales-y_hat_arma.arma_forecast[test.index.min():])/test.Sales)*100,2)"
   ]
  },
  {
   "cell_type": "code",
   "execution_count": 103,
   "id": "54c3877d",
   "metadata": {
    "scrolled": false
   },
   "outputs": [
    {
     "data": {
      "text/html": [
       "<div>\n",
       "<style scoped>\n",
       "    .dataframe tbody tr th:only-of-type {\n",
       "        vertical-align: middle;\n",
       "    }\n",
       "\n",
       "    .dataframe tbody tr th {\n",
       "        vertical-align: top;\n",
       "    }\n",
       "\n",
       "    .dataframe thead th {\n",
       "        text-align: right;\n",
       "    }\n",
       "</style>\n",
       "<table border=\"1\" class=\"dataframe\">\n",
       "  <thead>\n",
       "    <tr style=\"text-align: right;\">\n",
       "      <th></th>\n",
       "      <th>Method</th>\n",
       "      <th>RMSE</th>\n",
       "      <th>MAPE</th>\n",
       "    </tr>\n",
       "  </thead>\n",
       "  <tbody>\n",
       "    <tr>\n",
       "      <th>0</th>\n",
       "      <td>Simple exponential smoothing</td>\n",
       "      <td>14627.34</td>\n",
       "      <td>15.74</td>\n",
       "    </tr>\n",
       "    <tr>\n",
       "      <th>0</th>\n",
       "      <td>Holt's exponential smoothing</td>\n",
       "      <td>18976.37</td>\n",
       "      <td>34.57</td>\n",
       "    </tr>\n",
       "    <tr>\n",
       "      <th>0</th>\n",
       "      <td>Holt Winters's additive forecast</td>\n",
       "      <td>9306.82</td>\n",
       "      <td>10.17</td>\n",
       "    </tr>\n",
       "    <tr>\n",
       "      <th>0</th>\n",
       "      <td>Holt Winters' multiplicative method</td>\n",
       "      <td>9423.23</td>\n",
       "      <td>11.43</td>\n",
       "    </tr>\n",
       "    <tr>\n",
       "      <th>0</th>\n",
       "      <td>Autoregressive (AR) method</td>\n",
       "      <td>10985.28</td>\n",
       "      <td>13.56</td>\n",
       "    </tr>\n",
       "    <tr>\n",
       "      <th>0</th>\n",
       "      <td>Moving Average (MA) method</td>\n",
       "      <td>23360.02</td>\n",
       "      <td>33.93</td>\n",
       "    </tr>\n",
       "    <tr>\n",
       "      <th>0</th>\n",
       "      <td>Auto Regressive Moving Average (ARMA) method</td>\n",
       "      <td>22654.32</td>\n",
       "      <td>32.40</td>\n",
       "    </tr>\n",
       "  </tbody>\n",
       "</table>\n",
       "</div>"
      ],
      "text/plain": [
       "                                         Method      RMSE   MAPE\n",
       "0                  Simple exponential smoothing  14627.34  15.74\n",
       "0                  Holt's exponential smoothing  18976.37  34.57\n",
       "0              Holt Winters's additive forecast   9306.82  10.17\n",
       "0           Holt Winters' multiplicative method   9423.23  11.43\n",
       "0                    Autoregressive (AR) method  10985.28  13.56\n",
       "0                    Moving Average (MA) method  23360.02  33.93\n",
       "0  Auto Regressive Moving Average (ARMA) method  22654.32  32.40"
      ]
     },
     "execution_count": 103,
     "metadata": {},
     "output_type": "execute_result"
    }
   ],
   "source": [
    "#adding rmse and mape to results\n",
    "s= pd.DataFrame({'Method': ['Auto Regressive Moving Average (ARMA) method'],'RMSE': [rmse],\n",
    "                               'MAPE':[mape] })\n",
    "\n",
    "results = pd.concat([results,s])\n",
    "results"
   ]
  },
  {
   "cell_type": "markdown",
   "id": "9cfd436b",
   "metadata": {},
   "source": [
    "-  Auto Regressive Moving Average (ARMA) method is forecasting better than Holt's exponential smoothing and Moving Average (MA) method but worse than Autoregressive (AR) method."
   ]
  },
  {
   "cell_type": "markdown",
   "id": "1c8497f3",
   "metadata": {},
   "source": [
    "#### 7.4 Auto Regressive Integrated Moving Average (ARIMA) "
   ]
  },
  {
   "cell_type": "markdown",
   "id": "fd4ffe36",
   "metadata": {},
   "source": [
    "- models a series with the trend. It has an embedded parameter that difference the series to remove the trend and later integrate it into the original series.\n",
    "- ARIMA model has three parameters\n",
    "    p: Highest lag included in the regression model\n",
    "    d: Degree of differencing to make the series stationary\n",
    "    q: Number of past error terms included in the regression model\n",
    "- here p=1,q=1,d=1"
   ]
  },
  {
   "cell_type": "code",
   "execution_count": 104,
   "id": "e54d8e2d",
   "metadata": {},
   "outputs": [
    {
     "name": "stderr",
     "output_type": "stream",
     "text": [
      "C:\\Users\\aksha\\anaconda3\\lib\\site-packages\\statsmodels\\tsa\\base\\tsa_model.py:524: ValueWarning: No frequency information was provided, so inferred frequency MS will be used.\n",
      "  warnings.warn('No frequency information was'\n",
      "C:\\Users\\aksha\\anaconda3\\lib\\site-packages\\statsmodels\\tsa\\base\\tsa_model.py:524: ValueWarning: No frequency information was provided, so inferred frequency MS will be used.\n",
      "  warnings.warn('No frequency information was'\n"
     ]
    },
    {
     "name": "stdout",
     "output_type": "stream",
     "text": [
      "const        0.02147\n",
      "ar.L1.D.y    0.07458\n",
      "ma.L1.D.y   -1.00000\n",
      "dtype: float64\n"
     ]
    }
   ],
   "source": [
    "#building the model\n",
    "model = ARIMA(train_data_boxcox,order=(1,1,1))\n",
    "model_fit = model.fit()\n",
    "print(model_fit.params)"
   ]
  },
  {
   "cell_type": "code",
   "execution_count": 105,
   "id": "97fffe00",
   "metadata": {},
   "outputs": [],
   "source": [
    "#### Recovering original time series forecast\n",
    "y_hat_arima = data_boxcox_diff.copy()\n",
    "y_hat_arima['arima_forecast_boxcox_diff'] = model_fit.predict(data_boxcox_diff.index.min(),\n",
    "                                                             data_boxcox_diff.index.max())\n",
    "y_hat_arima['arima_forecast_boxcox'] = y_hat_arima['arima_forecast_boxcox_diff'].cumsum()\n",
    "y_hat_arima['arima_forecast_boxcox'] = y_hat_arima['arima_forecast_boxcox'].add(data_boxcox[0])\n",
    "y_hat_arima['arima_forecast'] = np.exp(y_hat_arima['arima_forecast_boxcox'])"
   ]
  },
  {
   "cell_type": "code",
   "execution_count": 106,
   "id": "f71f5bed",
   "metadata": {},
   "outputs": [],
   "source": [
    "#### Plotting train, test and forecast"
   ]
  },
  {
   "cell_type": "code",
   "execution_count": 107,
   "id": "ac957978",
   "metadata": {
    "scrolled": false
   },
   "outputs": [
    {
     "data": {
      "text/plain": [
       "<matplotlib.legend.Legend at 0x29605ba18b0>"
      ]
     },
     "execution_count": 107,
     "metadata": {},
     "output_type": "execute_result"
    },
    {
     "data": {
      "image/png": "[encoded data removed]",
      "text/plain": [
       "<Figure size 864x288 with 1 Axes>"
      ]
     },
     "metadata": {
      "needs_background": "light"
     },
     "output_type": "display_data"
    }
   ],
   "source": [
    "plt.figure(figsize = [12,4])\n",
    "\n",
    "plt.plot(train, label = 'Train')\n",
    "plt.plot(test,label = 'Test')\n",
    "plt.plot(y_hat_arima.arima_forecast[test.index.min():], label = 'ARIMA_forecast')\n",
    "\n",
    "plt.title('ARIMA Method')\n",
    "plt.legend(loc = 'best')"
   ]
  },
  {
   "cell_type": "markdown",
   "id": "eac5dcbd",
   "metadata": {},
   "source": [
    "- model is able to capture the trend but fails to cature the seasonality in the forecast"
   ]
  },
  {
   "cell_type": "code",
   "execution_count": 108,
   "id": "0b061522",
   "metadata": {},
   "outputs": [],
   "source": [
    "### Calculating RMSE and MAPE\n",
    "rmse = np.sqrt(mean_squared_error(test.Sales,y_hat_arima.arima_forecast[test.index.min():])).round(2)\n",
    "mape = np.round(np.mean(np.abs(test.Sales-y_hat_arima.arima_forecast[test.index.min():])/test.Sales)*100,2)"
   ]
  },
  {
   "cell_type": "code",
   "execution_count": 109,
   "id": "19c32883",
   "metadata": {
    "scrolled": false
   },
   "outputs": [
    {
     "data": {
      "text/html": [
       "<div>\n",
       "<style scoped>\n",
       "    .dataframe tbody tr th:only-of-type {\n",
       "        vertical-align: middle;\n",
       "    }\n",
       "\n",
       "    .dataframe tbody tr th {\n",
       "        vertical-align: top;\n",
       "    }\n",
       "\n",
       "    .dataframe thead th {\n",
       "        text-align: right;\n",
       "    }\n",
       "</style>\n",
       "<table border=\"1\" class=\"dataframe\">\n",
       "  <thead>\n",
       "    <tr style=\"text-align: right;\">\n",
       "      <th></th>\n",
       "      <th>Method</th>\n",
       "      <th>RMSE</th>\n",
       "      <th>MAPE</th>\n",
       "    </tr>\n",
       "  </thead>\n",
       "  <tbody>\n",
       "    <tr>\n",
       "      <th>0</th>\n",
       "      <td>Simple exponential smoothing</td>\n",
       "      <td>14627.34</td>\n",
       "      <td>15.74</td>\n",
       "    </tr>\n",
       "    <tr>\n",
       "      <th>0</th>\n",
       "      <td>Holt's exponential smoothing</td>\n",
       "      <td>18976.37</td>\n",
       "      <td>34.57</td>\n",
       "    </tr>\n",
       "    <tr>\n",
       "      <th>0</th>\n",
       "      <td>Holt Winters's additive forecast</td>\n",
       "      <td>9306.82</td>\n",
       "      <td>10.17</td>\n",
       "    </tr>\n",
       "    <tr>\n",
       "      <th>0</th>\n",
       "      <td>Holt Winters' multiplicative method</td>\n",
       "      <td>9423.23</td>\n",
       "      <td>11.43</td>\n",
       "    </tr>\n",
       "    <tr>\n",
       "      <th>0</th>\n",
       "      <td>Autoregressive (AR) method</td>\n",
       "      <td>10985.28</td>\n",
       "      <td>13.56</td>\n",
       "    </tr>\n",
       "    <tr>\n",
       "      <th>0</th>\n",
       "      <td>Moving Average (MA) method</td>\n",
       "      <td>23360.02</td>\n",
       "      <td>33.93</td>\n",
       "    </tr>\n",
       "    <tr>\n",
       "      <th>0</th>\n",
       "      <td>Auto Regressive Moving Average (ARMA) method</td>\n",
       "      <td>22654.32</td>\n",
       "      <td>32.40</td>\n",
       "    </tr>\n",
       "    <tr>\n",
       "      <th>0</th>\n",
       "      <td>Auto Regressive Integrated Moving Average (ARI...</td>\n",
       "      <td>22654.32</td>\n",
       "      <td>32.40</td>\n",
       "    </tr>\n",
       "  </tbody>\n",
       "</table>\n",
       "</div>"
      ],
      "text/plain": [
       "                                              Method      RMSE   MAPE\n",
       "0                       Simple exponential smoothing  14627.34  15.74\n",
       "0                       Holt's exponential smoothing  18976.37  34.57\n",
       "0                   Holt Winters's additive forecast   9306.82  10.17\n",
       "0                Holt Winters' multiplicative method   9423.23  11.43\n",
       "0                         Autoregressive (AR) method  10985.28  13.56\n",
       "0                         Moving Average (MA) method  23360.02  33.93\n",
       "0       Auto Regressive Moving Average (ARMA) method  22654.32  32.40\n",
       "0  Auto Regressive Integrated Moving Average (ARI...  22654.32  32.40"
      ]
     },
     "execution_count": 109,
     "metadata": {},
     "output_type": "execute_result"
    }
   ],
   "source": [
    "#adding rmse and mape to the results\n",
    "s= pd.DataFrame({'Method': ['Auto Regressive Integrated Moving Average (ARIMA) method'],'RMSE': [rmse],\n",
    "                               'MAPE':[mape] })\n",
    "\n",
    "results = pd.concat([results,s])\n",
    "results"
   ]
  },
  {
   "cell_type": "markdown",
   "id": "f314da36",
   "metadata": {},
   "source": [
    "- ARIMA model has similar mape and rmse vales of  ARMA model"
   ]
  },
  {
   "cell_type": "markdown",
   "id": "9329f19e",
   "metadata": {},
   "source": [
    "#### 7.5 Seasonal Auto Regressive Integrated Moving Average (SARIMA)"
   ]
  },
  {
   "cell_type": "markdown",
   "id": "92a9e478",
   "metadata": {},
   "source": [
    "- SARIMA brings all the features of an ARIMA model with an extra feature - seasonality. \n",
    "\n",
    "- The seasonal elements of SARIMA\n",
    "\n",
    "    Perform seasonal differencing on time series.\n",
    "    Model future seasonality as linear regression of past observations of seasonality and past forecast errors of seasonality.\n"
   ]
  },
  {
   "cell_type": "code",
   "execution_count": 110,
   "id": "ecbf1e96",
   "metadata": {},
   "outputs": [],
   "source": [
    "from statsmodels.tsa.statespace.sarimax import SARIMAX"
   ]
  },
  {
   "cell_type": "code",
   "execution_count": 111,
   "id": "a66ac3c2",
   "metadata": {},
   "outputs": [
    {
     "name": "stderr",
     "output_type": "stream",
     "text": [
      "C:\\Users\\aksha\\anaconda3\\lib\\site-packages\\statsmodels\\tsa\\base\\tsa_model.py:524: ValueWarning: No frequency information was provided, so inferred frequency MS will be used.\n",
      "  warnings.warn('No frequency information was'\n",
      "C:\\Users\\aksha\\anaconda3\\lib\\site-packages\\statsmodels\\tsa\\base\\tsa_model.py:524: ValueWarning: No frequency information was provided, so inferred frequency MS will be used.\n",
      "  warnings.warn('No frequency information was'\n"
     ]
    },
    {
     "name": "stdout",
     "output_type": "stream",
     "text": [
      "ar.L1      -0.041875\n",
      "ma.L1      -0.997313\n",
      "ar.S.L12    0.099343\n",
      "ma.S.L12   -0.973831\n",
      "sigma2      0.058096\n",
      "dtype: float64\n"
     ]
    }
   ],
   "source": [
    "#building the model\n",
    "model = SARIMAX(train_data_boxcox,order= (1,1,1),seasonal_order=(1,1,1,12))\n",
    "model_fit = model.fit()\n",
    "print(model_fit.params)"
   ]
  },
  {
   "cell_type": "code",
   "execution_count": 112,
   "id": "f41abd77",
   "metadata": {},
   "outputs": [],
   "source": [
    "#### Recovering the original time series forecast\n",
    "y_hat_sarima = data_boxcox_diff.copy()\n",
    "y_hat_sarima['sarima_forecast_boxcox'] = model_fit.predict(data_boxcox_diff.index.min(),\n",
    "                                                            data_boxcox_diff.index.max())\n",
    "y_hat_sarima['sarima_forecast']= np.exp(y_hat_sarima['sarima_forecast_boxcox'])"
   ]
  },
  {
   "cell_type": "code",
   "execution_count": 113,
   "id": "3bb2a916",
   "metadata": {},
   "outputs": [],
   "source": [
    "#### Plotting train, test and forecast"
   ]
  },
  {
   "cell_type": "code",
   "execution_count": 114,
   "id": "92c5c536",
   "metadata": {
    "scrolled": false
   },
   "outputs": [
    {
     "data": {
      "text/plain": [
       "<matplotlib.legend.Legend at 0x29603fdef40>"
      ]
     },
     "execution_count": 114,
     "metadata": {},
     "output_type": "execute_result"
    },
    {
     "data": {
      "image/png": "[encoded data removed]",
      "text/plain": [
       "<Figure size 864x288 with 1 Axes>"
      ]
     },
     "metadata": {
      "needs_background": "light"
     },
     "output_type": "display_data"
    }
   ],
   "source": [
    "plt.figure(figsize = [12,4])\n",
    "\n",
    "plt.plot(train, label = 'Train')\n",
    "plt.plot(test,label = 'Test')\n",
    "plt.plot(y_hat_sarima.sarima_forecast[test.index.min():], label = 'SARIMA_forecast')\n",
    "\n",
    "plt.title('SARIMA Method')\n",
    "plt.legend(loc = 'best')"
   ]
  },
  {
   "cell_type": "markdown",
   "id": "c02213f1",
   "metadata": {},
   "source": [
    "- model is able to capture both trend and seasonality"
   ]
  },
  {
   "cell_type": "code",
   "execution_count": 115,
   "id": "9de4b659",
   "metadata": {},
   "outputs": [],
   "source": [
    "### Calculating RMSE and MAPE\n",
    "rmse = np.sqrt(mean_squared_error(test.Sales,y_hat_sarima.sarima_forecast[test.index.min():])).round(2)\n",
    "mape = np.round(np.mean(np.abs(test.Sales-y_hat_sarima.sarima_forecast[test.index.min():])/test.Sales)*100,2)"
   ]
  },
  {
   "cell_type": "code",
   "execution_count": 116,
   "id": "5c7fd0a4",
   "metadata": {
    "scrolled": true
   },
   "outputs": [
    {
     "data": {
      "text/html": [
       "<div>\n",
       "<style scoped>\n",
       "    .dataframe tbody tr th:only-of-type {\n",
       "        vertical-align: middle;\n",
       "    }\n",
       "\n",
       "    .dataframe tbody tr th {\n",
       "        vertical-align: top;\n",
       "    }\n",
       "\n",
       "    .dataframe thead th {\n",
       "        text-align: right;\n",
       "    }\n",
       "</style>\n",
       "<table border=\"1\" class=\"dataframe\">\n",
       "  <thead>\n",
       "    <tr style=\"text-align: right;\">\n",
       "      <th></th>\n",
       "      <th>Method</th>\n",
       "      <th>RMSE</th>\n",
       "      <th>MAPE</th>\n",
       "    </tr>\n",
       "  </thead>\n",
       "  <tbody>\n",
       "    <tr>\n",
       "      <th>0</th>\n",
       "      <td>Simple exponential smoothing</td>\n",
       "      <td>14627.34</td>\n",
       "      <td>15.74</td>\n",
       "    </tr>\n",
       "    <tr>\n",
       "      <th>0</th>\n",
       "      <td>Holt's exponential smoothing</td>\n",
       "      <td>18976.37</td>\n",
       "      <td>34.57</td>\n",
       "    </tr>\n",
       "    <tr>\n",
       "      <th>0</th>\n",
       "      <td>Holt Winters's additive forecast</td>\n",
       "      <td>9306.82</td>\n",
       "      <td>10.17</td>\n",
       "    </tr>\n",
       "    <tr>\n",
       "      <th>0</th>\n",
       "      <td>Holt Winters' multiplicative method</td>\n",
       "      <td>9423.23</td>\n",
       "      <td>11.43</td>\n",
       "    </tr>\n",
       "    <tr>\n",
       "      <th>0</th>\n",
       "      <td>Autoregressive (AR) method</td>\n",
       "      <td>10985.28</td>\n",
       "      <td>13.56</td>\n",
       "    </tr>\n",
       "    <tr>\n",
       "      <th>0</th>\n",
       "      <td>Moving Average (MA) method</td>\n",
       "      <td>23360.02</td>\n",
       "      <td>33.93</td>\n",
       "    </tr>\n",
       "    <tr>\n",
       "      <th>0</th>\n",
       "      <td>Auto Regressive Moving Average (ARMA) method</td>\n",
       "      <td>22654.32</td>\n",
       "      <td>32.40</td>\n",
       "    </tr>\n",
       "    <tr>\n",
       "      <th>0</th>\n",
       "      <td>Auto Regressive Integrated Moving Average (ARI...</td>\n",
       "      <td>22654.32</td>\n",
       "      <td>32.40</td>\n",
       "    </tr>\n",
       "    <tr>\n",
       "      <th>0</th>\n",
       "      <td>Seasonal Auto Regressive Integrated Moving Ave...</td>\n",
       "      <td>9614.23</td>\n",
       "      <td>12.86</td>\n",
       "    </tr>\n",
       "  </tbody>\n",
       "</table>\n",
       "</div>"
      ],
      "text/plain": [
       "                                              Method      RMSE   MAPE\n",
       "0                       Simple exponential smoothing  14627.34  15.74\n",
       "0                       Holt's exponential smoothing  18976.37  34.57\n",
       "0                   Holt Winters's additive forecast   9306.82  10.17\n",
       "0                Holt Winters' multiplicative method   9423.23  11.43\n",
       "0                         Autoregressive (AR) method  10985.28  13.56\n",
       "0                         Moving Average (MA) method  23360.02  33.93\n",
       "0       Auto Regressive Moving Average (ARMA) method  22654.32  32.40\n",
       "0  Auto Regressive Integrated Moving Average (ARI...  22654.32  32.40\n",
       "0  Seasonal Auto Regressive Integrated Moving Ave...   9614.23  12.86"
      ]
     },
     "execution_count": 116,
     "metadata": {},
     "output_type": "execute_result"
    }
   ],
   "source": [
    "# adding mape and rmse values to results\n",
    "s= pd.DataFrame({'Method': ['Seasonal Auto Regressive Integrated Moving Average (SARIMA) method'],'RMSE': [rmse],\n",
    "                               'MAPE':[mape] })\n",
    "\n",
    "results = pd.concat([results,s])\n",
    "results"
   ]
  },
  {
   "cell_type": "markdown",
   "id": "170b857d",
   "metadata": {},
   "source": [
    "# 8. Conclusions"
   ]
  },
  {
   "cell_type": "markdown",
   "id": "ad670789",
   "metadata": {},
   "source": [
    "-  'APAC_Consumer' is the most profitable market segment with least CoV value.\n",
    "- Our initial time series data of monthly sales of 'APAC_Consumer'  had,\n",
    "    - more than 10 historical data points\n",
    "    - There was an upward trend\n",
    "    - There was a seasonal component\n",
    "- So from the flow chart of time series models, it was expected that `Holt Winters' smoothing method and SARIMA model` can better forecast  the monthly sales."
   ]
  },
  {
   "cell_type": "markdown",
   "id": "2ad8f0d8",
   "metadata": {},
   "source": [
    "####  Holt Winters's additive forecast is the best smoothing technique for forecasting the sales of 'APAC_Consumer' .\n",
    "\n",
    "\n",
    "#### SARIMA model is the best  autoregressive model for forecasting the monthly sales of 'APAC_Consumer'."
   ]
  },
  {
   "cell_type": "code",
   "execution_count": null,
   "id": "1f5d1034",
   "metadata": {},
   "outputs": [],
   "source": []
  }
 ],
 "metadata": {
  "kernelspec": {
   "display_name": "Python 3 (ipykernel)",
   "language": "python",
   "name": "python3"
  },
  "language_info": {
   "codemirror_mode": {
    "name": "ipython",
    "version": 3
   },
   "file_extension": ".py",
   "mimetype": "text/x-python",
   "name": "python",
   "nbconvert_exporter": "python",
   "pygments_lexer": "ipython3",
   "version": "3.9.7"
  }
 },
 "nbformat": 4,
 "nbformat_minor": 5
}
